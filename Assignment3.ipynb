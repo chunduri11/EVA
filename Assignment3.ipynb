{
  "nbformat": 4,
  "nbformat_minor": 0,
  "metadata": {
    "colab": {
      "name": "Assignment3.ipynb",
      "version": "0.3.2",
      "provenance": [],
      "collapsed_sections": [],
      "include_colab_link": true
    },
    "kernelspec": {
      "name": "python3",
      "display_name": "Python 3"
    },
    "accelerator": "GPU"
  },
  "cells": [
    {
      "cell_type": "markdown",
      "metadata": {
        "id": "view-in-github",
        "colab_type": "text"
      },
      "source": [
        "<a href=\"https://colab.research.google.com/github/pasumarthi/EVA/blob/master/Assignment3.ipynb\" target=\"_parent\"><img src=\"https://colab.research.google.com/assets/colab-badge.svg\" alt=\"Open In Colab\"/></a>"
      ]
    },
    {
      "cell_type": "markdown",
      "metadata": {
        "id": "aNyZv-Ec52ot",
        "colab_type": "text"
      },
      "source": [
        "# **Import Libraries and modules**"
      ]
    },
    {
      "cell_type": "code",
      "metadata": {
        "id": "3m3w1Cw49Zkt",
        "colab_type": "code",
        "outputId": "d4c70467-80dd-481d-85e3-606841543ab1",
        "colab": {
          "base_uri": "https://localhost:8080/",
          "height": 34
        }
      },
      "source": [
        "# https://keras.io/\n",
        "!pip install -q keras\n",
        "import keras"
      ],
      "execution_count": 0,
      "outputs": [
        {
          "output_type": "stream",
          "text": [
            "Using TensorFlow backend.\n"
          ],
          "name": "stderr"
        }
      ]
    },
    {
      "cell_type": "code",
      "metadata": {
        "id": "Eso6UHE080D4",
        "colab_type": "code",
        "colab": {}
      },
      "source": [
        "import numpy as np\n",
        "\n",
        "from keras.models import Sequential\n",
        "from keras.layers import Dense, Dropout, Activation, Flatten, Add\n",
        "from keras.layers import Convolution2D, MaxPooling2D\n",
        "from keras.utils import np_utils\n",
        "\n",
        "from keras.datasets import mnist"
      ],
      "execution_count": 0,
      "outputs": []
    },
    {
      "cell_type": "markdown",
      "metadata": {
        "id": "o285U9a4s_-x",
        "colab_type": "text"
      },
      "source": [
        "Divide the mnsist data into training and test"
      ]
    },
    {
      "cell_type": "markdown",
      "metadata": {
        "id": "zByEi95J86RD",
        "colab_type": "text"
      },
      "source": [
        "### Load pre-shuffled MNIST data into train and test sets"
      ]
    },
    {
      "cell_type": "code",
      "metadata": {
        "id": "7eRM0QWN83PV",
        "colab_type": "code",
        "colab": {}
      },
      "source": [
        "(X_train, y_train), (X_test, y_test) = mnist.load_data()"
      ],
      "execution_count": 0,
      "outputs": []
    },
    {
      "cell_type": "code",
      "metadata": {
        "id": "4a4Be72j8-ZC",
        "colab_type": "code",
        "outputId": "c95f8748-504f-4d04-f019-2f9c5a0b261e",
        "colab": {
          "base_uri": "https://localhost:8080/",
          "height": 302
        }
      },
      "source": [
        "print (X_train.shape)\n",
        "from matplotlib import pyplot as plt\n",
        "%matplotlib inline\n",
        "plt.imshow(X_train[0])"
      ],
      "execution_count": 0,
      "outputs": [
        {
          "output_type": "stream",
          "text": [
            "(60000, 28, 28)\n"
          ],
          "name": "stdout"
        },
        {
          "output_type": "execute_result",
          "data": {
            "text/plain": [
              "<matplotlib.image.AxesImage at 0x7f1db4efeba8>"
            ]
          },
          "metadata": {
            "tags": []
          },
          "execution_count": 4
        },
        {
          "output_type": "display_data",
          "data": {
            "image/png": "[encoded data removed]",
            "text/plain": [
              "<Figure size 432x288 with 1 Axes>"
            ]
          },
          "metadata": {
            "tags": []
          }
        }
      ]
    },
    {
      "cell_type": "code",
      "metadata": {
        "id": "INajhOfVsm3g",
        "colab_type": "code",
        "colab": {
          "base_uri": "https://localhost:8080/",
          "height": 34
        },
        "outputId": "be2925b7-43c7-41f8-fa30-4914f1015abc"
      },
      "source": [
        "print(X_train.shape[0])"
      ],
      "execution_count": 46,
      "outputs": [
        {
          "output_type": "stream",
          "text": [
            "60000\n"
          ],
          "name": "stdout"
        }
      ]
    },
    {
      "cell_type": "code",
      "metadata": {
        "id": "M-ppKJvyszZm",
        "colab_type": "code",
        "colab": {
          "base_uri": "https://localhost:8080/",
          "height": 34
        },
        "outputId": "935b09ca-ec41-4a2a-c517-5e2d73e61d10"
      },
      "source": [
        "print(X_test.shape[0])"
      ],
      "execution_count": 47,
      "outputs": [
        {
          "output_type": "stream",
          "text": [
            "10000\n"
          ],
          "name": "stdout"
        }
      ]
    },
    {
      "cell_type": "markdown",
      "metadata": {
        "id": "gofc5773MAhX",
        "colab_type": "text"
      },
      "source": [
        "Training and Testig  data "
      ]
    },
    {
      "cell_type": "code",
      "metadata": {
        "id": "dkmprriw9AnZ",
        "colab_type": "code",
        "colab": {}
      },
      "source": [
        "X_train = X_train.reshape(X_train.shape[0], 28, 28,1)\n",
        "X_test = X_test.reshape(X_test.shape[0], 28, 28,1)"
      ],
      "execution_count": 0,
      "outputs": []
    },
    {
      "cell_type": "code",
      "metadata": {
        "id": "X2m4YS4E9CRh",
        "colab_type": "code",
        "colab": {}
      },
      "source": [
        "X_train = X_train.astype('float32')\n",
        "X_test = X_test.astype('float32')\n",
        "X_train /= 255\n",
        "X_test /= 255"
      ],
      "execution_count": 0,
      "outputs": []
    },
    {
      "cell_type": "markdown",
      "metadata": {
        "id": "rKKIMu_aMM26",
        "colab_type": "text"
      },
      "source": [
        "Printing  first 10 training values"
      ]
    },
    {
      "cell_type": "code",
      "metadata": {
        "id": "0Mn0vAYD9DvB",
        "colab_type": "code",
        "outputId": "9e076ae1-f875-43f5-8dd7-062fd0c2744b",
        "colab": {
          "base_uri": "https://localhost:8080/",
          "height": 34
        }
      },
      "source": [
        "y_train[:10]"
      ],
      "execution_count": 0,
      "outputs": [
        {
          "output_type": "execute_result",
          "data": {
            "text/plain": [
              "array([5, 0, 4, 1, 9, 2, 1, 3, 1, 4], dtype=uint8)"
            ]
          },
          "metadata": {
            "tags": []
          },
          "execution_count": 7
        }
      ]
    },
    {
      "cell_type": "markdown",
      "metadata": {
        "id": "1gXMFAu_MTuq",
        "colab_type": "text"
      },
      "source": [
        ""
      ]
    },
    {
      "cell_type": "code",
      "metadata": {
        "id": "ZG8JiXR39FHC",
        "colab_type": "code",
        "colab": {}
      },
      "source": [
        "# Convert 1-dimensional class arrays to 10-dimensional class matrices\n",
        "Y_train = np_utils.to_categorical(y_train, 10)\n",
        "Y_test = np_utils.to_categorical(y_test, 10)"
      ],
      "execution_count": 0,
      "outputs": []
    },
    {
      "cell_type": "code",
      "metadata": {
        "id": "fYlFRvKS9HMB",
        "colab_type": "code",
        "outputId": "5eae09ec-7d00-4fcb-a050-f66abfe3634e",
        "colab": {
          "base_uri": "https://localhost:8080/",
          "height": 185
        }
      },
      "source": [
        "Y_train[:10]\n"
      ],
      "execution_count": 0,
      "outputs": [
        {
          "output_type": "execute_result",
          "data": {
            "text/plain": [
              "array([[0., 0., 0., 0., 0., 1., 0., 0., 0., 0.],\n",
              "       [1., 0., 0., 0., 0., 0., 0., 0., 0., 0.],\n",
              "       [0., 0., 0., 0., 1., 0., 0., 0., 0., 0.],\n",
              "       [0., 1., 0., 0., 0., 0., 0., 0., 0., 0.],\n",
              "       [0., 0., 0., 0., 0., 0., 0., 0., 0., 1.],\n",
              "       [0., 0., 1., 0., 0., 0., 0., 0., 0., 0.],\n",
              "       [0., 1., 0., 0., 0., 0., 0., 0., 0., 0.],\n",
              "       [0., 0., 0., 1., 0., 0., 0., 0., 0., 0.],\n",
              "       [0., 1., 0., 0., 0., 0., 0., 0., 0., 0.],\n",
              "       [0., 0., 0., 0., 1., 0., 0., 0., 0., 0.]], dtype=float32)"
            ]
          },
          "metadata": {
            "tags": []
          },
          "execution_count": 9
        }
      ]
    },
    {
      "cell_type": "code",
      "metadata": {
        "id": "Mqk-xgHqMW9u",
        "colab_type": "code",
        "colab": {}
      },
      "source": [
        "Architecture \n",
        "\n",
        "Tried initially without dropout. Found to be have overfitting\n",
        "Intorduced dropout and overfitting ws under control\n",
        "Results were not repeatable as everytime value are intialized randomly\n",
        "Added 1*1 filter before maxpooling  with the aim to merge the pre existing features \n",
        "Tried to follow standard architectures  to have intially lower number of filter and gradually increase and rediuce the number of channel at 1*1 filter as \n",
        "in later layers requires help in extracting more number of features. Initial layer is kept at lower number of channels as we edges and gradients mostly\n",
        "started with 8 channels and then increased to 32 and tried .Though number of parameters  reduced drastically but got accuracy around 92 only.\n",
        "So changed to 16 channels\n"
      ],
      "execution_count": 0,
      "outputs": []
    },
    {
      "cell_type": "code",
      "metadata": {
        "id": "osKqT73Q9JJB",
        "colab_type": "code",
        "outputId": "7cf81caf-fa2d-4909-f88a-37f2db52cf3e",
        "colab": {
          "base_uri": "https://localhost:8080/",
          "height": 238
        }
      },
      "source": [
        "from keras.layers import Activation\n",
        "model = Sequential()\n",
        "\n",
        " \n",
        "model.add(Convolution2D(16, 3, 3, activation='relu', input_shape=(28,28,1)))\n",
        "model.add(Convolution2D(32, 3, 3, activation='relu'))\n",
        "model.add(Convolution2D(16, 1, 1, activation='relu'))\n",
        "\n",
        "model.add(MaxPooling2D(pool_size=(2, 2)))\n",
        "model.add(Dropout(0.15))\n",
        "          \n",
        "\n",
        "model.add(Convolution2D(32,3,3, activation='relu'))\n",
        "model.add(Convolution2D(16, 1, 1, activation='relu'))\n",
        "\n",
        "model.add(MaxPooling2D(pool_size=(2, 2)))\n",
        "model.add(Dropout(0.5))\n",
        "\n",
        "model.add(Convolution2D(32,3,3, activation='relu'))\n",
        "model.add(Convolution2D(10,3,3))\n",
        "model.add(Flatten())\n",
        "model.add(Activation('softmax'))"
      ],
      "execution_count": 27,
      "outputs": [
        {
          "output_type": "stream",
          "text": [
            "/usr/local/lib/python3.6/dist-packages/ipykernel_launcher.py:5: UserWarning: Update your `Conv2D` call to the Keras 2 API: `Conv2D(16, (3, 3), activation=\"relu\", input_shape=(28, 28, 1...)`\n",
            "  \"\"\"\n",
            "/usr/local/lib/python3.6/dist-packages/ipykernel_launcher.py:6: UserWarning: Update your `Conv2D` call to the Keras 2 API: `Conv2D(32, (3, 3), activation=\"relu\")`\n",
            "  \n",
            "/usr/local/lib/python3.6/dist-packages/ipykernel_launcher.py:7: UserWarning: Update your `Conv2D` call to the Keras 2 API: `Conv2D(16, (1, 1), activation=\"relu\")`\n",
            "  import sys\n",
            "/usr/local/lib/python3.6/dist-packages/ipykernel_launcher.py:12: UserWarning: Update your `Conv2D` call to the Keras 2 API: `Conv2D(32, (3, 3), activation=\"relu\")`\n",
            "  if sys.path[0] == '':\n",
            "/usr/local/lib/python3.6/dist-packages/ipykernel_launcher.py:14: UserWarning: Update your `Conv2D` call to the Keras 2 API: `Conv2D(16, (1, 1), activation=\"relu\")`\n",
            "  \n",
            "/usr/local/lib/python3.6/dist-packages/ipykernel_launcher.py:17: UserWarning: Update your `Conv2D` call to the Keras 2 API: `Conv2D(32, (3, 3), activation=\"relu\")`\n",
            "/usr/local/lib/python3.6/dist-packages/ipykernel_launcher.py:18: UserWarning: Update your `Conv2D` call to the Keras 2 API: `Conv2D(10, (3, 3))`\n"
          ],
          "name": "stderr"
        }
      ]
    },
    {
      "cell_type": "code",
      "metadata": {
        "id": "TzdAYg1k9K7Z",
        "colab_type": "code",
        "outputId": "73133d65-f20a-4a22-8188-6f37a779343b",
        "colab": {
          "base_uri": "https://localhost:8080/",
          "height": 571
        }
      },
      "source": [
        "model.summary()"
      ],
      "execution_count": 28,
      "outputs": [
        {
          "output_type": "stream",
          "text": [
            "_________________________________________________________________\n",
            "Layer (type)                 Output Shape              Param #   \n",
            "=================================================================\n",
            "conv2d_22 (Conv2D)           (None, 26, 26, 16)        160       \n",
            "_________________________________________________________________\n",
            "conv2d_23 (Conv2D)           (None, 24, 24, 32)        4640      \n",
            "_________________________________________________________________\n",
            "conv2d_24 (Conv2D)           (None, 24, 24, 16)        528       \n",
            "_________________________________________________________________\n",
            "max_pooling2d_7 (MaxPooling2 (None, 12, 12, 16)        0         \n",
            "_________________________________________________________________\n",
            "dropout_7 (Dropout)          (None, 12, 12, 16)        0         \n",
            "_________________________________________________________________\n",
            "conv2d_25 (Conv2D)           (None, 10, 10, 32)        4640      \n",
            "_________________________________________________________________\n",
            "conv2d_26 (Conv2D)           (None, 10, 10, 16)        528       \n",
            "_________________________________________________________________\n",
            "max_pooling2d_8 (MaxPooling2 (None, 5, 5, 16)          0         \n",
            "_________________________________________________________________\n",
            "dropout_8 (Dropout)          (None, 5, 5, 16)          0         \n",
            "_________________________________________________________________\n",
            "conv2d_27 (Conv2D)           (None, 3, 3, 32)          4640      \n",
            "_________________________________________________________________\n",
            "conv2d_28 (Conv2D)           (None, 1, 1, 10)          2890      \n",
            "_________________________________________________________________\n",
            "flatten_4 (Flatten)          (None, 10)                0         \n",
            "_________________________________________________________________\n",
            "activation_4 (Activation)    (None, 10)                0         \n",
            "=================================================================\n",
            "Total params: 18,026\n",
            "Trainable params: 18,026\n",
            "Non-trainable params: 0\n",
            "_________________________________________________________________\n"
          ],
          "name": "stdout"
        }
      ]
    },
    {
      "cell_type": "code",
      "metadata": {
        "id": "Zp6SuGrL9M3h",
        "colab_type": "code",
        "colab": {}
      },
      "source": [
        "model.compile(loss='categorical_crossentropy',\n",
        "             optimizer='adam',\n",
        "             metrics=['accuracy'])"
      ],
      "execution_count": 0,
      "outputs": []
    },
    {
      "cell_type": "code",
      "metadata": {
        "id": "4xWoKhPY9Of5",
        "colab_type": "code",
        "outputId": "34425e26-4609-44ee-d0e9-159dfbbd3d7f",
        "colab": {
          "base_uri": "https://localhost:8080/",
          "height": 1764
        }
      },
      "source": [
        "model.fit(X_train, Y_train, batch_size=512,nb_epoch=50, verbose=1,validation_split=0.1)"
      ],
      "execution_count": 30,
      "outputs": [
        {
          "output_type": "stream",
          "text": [
            "/usr/local/lib/python3.6/dist-packages/ipykernel_launcher.py:1: UserWarning: The `nb_epoch` argument in `fit` has been renamed `epochs`.\n",
            "  \"\"\"Entry point for launching an IPython kernel.\n"
          ],
          "name": "stderr"
        },
        {
          "output_type": "stream",
          "text": [
            "Train on 54000 samples, validate on 6000 samples\n",
            "Epoch 1/50\n",
            "54000/54000 [==============================] - 2s 46us/step - loss: 1.0574 - acc: 0.6385 - val_loss: 0.1985 - val_acc: 0.9378\n",
            "Epoch 2/50\n",
            "54000/54000 [==============================] - 2s 33us/step - loss: 0.3132 - acc: 0.9004 - val_loss: 0.1010 - val_acc: 0.9687\n",
            "Epoch 3/50\n",
            "54000/54000 [==============================] - 2s 34us/step - loss: 0.2136 - acc: 0.9329 - val_loss: 0.0770 - val_acc: 0.9778\n",
            "Epoch 4/50\n",
            "54000/54000 [==============================] - 2s 34us/step - loss: 0.1710 - acc: 0.9464 - val_loss: 0.0660 - val_acc: 0.9808\n",
            "Epoch 5/50\n",
            "54000/54000 [==============================] - 2s 34us/step - loss: 0.1503 - acc: 0.9527 - val_loss: 0.0574 - val_acc: 0.9832\n",
            "Epoch 6/50\n",
            "54000/54000 [==============================] - 2s 35us/step - loss: 0.1290 - acc: 0.9602 - val_loss: 0.0500 - val_acc: 0.9848\n",
            "Epoch 7/50\n",
            "54000/54000 [==============================] - 2s 34us/step - loss: 0.1170 - acc: 0.9639 - val_loss: 0.0502 - val_acc: 0.9867\n",
            "Epoch 8/50\n",
            "54000/54000 [==============================] - 2s 34us/step - loss: 0.1096 - acc: 0.9658 - val_loss: 0.0435 - val_acc: 0.9883\n",
            "Epoch 9/50\n",
            "54000/54000 [==============================] - 2s 34us/step - loss: 0.1052 - acc: 0.9671 - val_loss: 0.0510 - val_acc: 0.9863\n",
            "Epoch 10/50\n",
            "54000/54000 [==============================] - 2s 34us/step - loss: 0.0960 - acc: 0.9697 - val_loss: 0.0449 - val_acc: 0.9880\n",
            "Epoch 11/50\n",
            "54000/54000 [==============================] - 2s 34us/step - loss: 0.0915 - acc: 0.9716 - val_loss: 0.0401 - val_acc: 0.9883\n",
            "Epoch 12/50\n",
            "54000/54000 [==============================] - 2s 34us/step - loss: 0.0903 - acc: 0.9719 - val_loss: 0.0427 - val_acc: 0.9885\n",
            "Epoch 13/50\n",
            "54000/54000 [==============================] - 2s 35us/step - loss: 0.0845 - acc: 0.9731 - val_loss: 0.0358 - val_acc: 0.9907\n",
            "Epoch 14/50\n",
            "54000/54000 [==============================] - 2s 34us/step - loss: 0.0842 - acc: 0.9740 - val_loss: 0.0379 - val_acc: 0.9898\n",
            "Epoch 15/50\n",
            "54000/54000 [==============================] - 2s 35us/step - loss: 0.0801 - acc: 0.9745 - val_loss: 0.0390 - val_acc: 0.9905\n",
            "Epoch 16/50\n",
            "54000/54000 [==============================] - 2s 34us/step - loss: 0.0776 - acc: 0.9759 - val_loss: 0.0358 - val_acc: 0.9903\n",
            "Epoch 17/50\n",
            "54000/54000 [==============================] - 2s 35us/step - loss: 0.0744 - acc: 0.9773 - val_loss: 0.0351 - val_acc: 0.9900\n",
            "Epoch 18/50\n",
            "54000/54000 [==============================] - 2s 35us/step - loss: 0.0730 - acc: 0.9774 - val_loss: 0.0339 - val_acc: 0.9907\n",
            "Epoch 19/50\n",
            "54000/54000 [==============================] - 2s 35us/step - loss: 0.0700 - acc: 0.9777 - val_loss: 0.0318 - val_acc: 0.9912\n",
            "Epoch 20/50\n",
            "54000/54000 [==============================] - 2s 35us/step - loss: 0.0660 - acc: 0.9795 - val_loss: 0.0320 - val_acc: 0.9915\n",
            "Epoch 21/50\n",
            "54000/54000 [==============================] - 2s 34us/step - loss: 0.0674 - acc: 0.9789 - val_loss: 0.0306 - val_acc: 0.9918\n",
            "Epoch 22/50\n",
            "54000/54000 [==============================] - 2s 34us/step - loss: 0.0645 - acc: 0.9800 - val_loss: 0.0291 - val_acc: 0.9920\n",
            "Epoch 23/50\n",
            "54000/54000 [==============================] - 2s 34us/step - loss: 0.0639 - acc: 0.9798 - val_loss: 0.0337 - val_acc: 0.9910\n",
            "Epoch 24/50\n",
            "54000/54000 [==============================] - 2s 34us/step - loss: 0.0601 - acc: 0.9807 - val_loss: 0.0282 - val_acc: 0.9922\n",
            "Epoch 25/50\n",
            "54000/54000 [==============================] - 2s 34us/step - loss: 0.0615 - acc: 0.9802 - val_loss: 0.0300 - val_acc: 0.9910\n",
            "Epoch 26/50\n",
            "54000/54000 [==============================] - 2s 34us/step - loss: 0.0603 - acc: 0.9806 - val_loss: 0.0289 - val_acc: 0.9913\n",
            "Epoch 27/50\n",
            "54000/54000 [==============================] - 2s 34us/step - loss: 0.0586 - acc: 0.9811 - val_loss: 0.0281 - val_acc: 0.9923\n",
            "Epoch 28/50\n",
            "54000/54000 [==============================] - 2s 34us/step - loss: 0.0572 - acc: 0.9816 - val_loss: 0.0290 - val_acc: 0.9920\n",
            "Epoch 29/50\n",
            "54000/54000 [==============================] - 2s 34us/step - loss: 0.0561 - acc: 0.9820 - val_loss: 0.0291 - val_acc: 0.9917\n",
            "Epoch 30/50\n",
            "54000/54000 [==============================] - 2s 34us/step - loss: 0.0554 - acc: 0.9824 - val_loss: 0.0294 - val_acc: 0.9912\n",
            "Epoch 31/50\n",
            "54000/54000 [==============================] - 2s 34us/step - loss: 0.0545 - acc: 0.9826 - val_loss: 0.0279 - val_acc: 0.9918\n",
            "Epoch 32/50\n",
            "54000/54000 [==============================] - 2s 34us/step - loss: 0.0538 - acc: 0.9824 - val_loss: 0.0266 - val_acc: 0.9923\n",
            "Epoch 33/50\n",
            "54000/54000 [==============================] - 2s 34us/step - loss: 0.0528 - acc: 0.9830 - val_loss: 0.0236 - val_acc: 0.9928\n",
            "Epoch 34/50\n",
            "54000/54000 [==============================] - 2s 34us/step - loss: 0.0535 - acc: 0.9827 - val_loss: 0.0248 - val_acc: 0.9920\n",
            "Epoch 35/50\n",
            "54000/54000 [==============================] - 2s 34us/step - loss: 0.0529 - acc: 0.9829 - val_loss: 0.0261 - val_acc: 0.9913\n",
            "Epoch 36/50\n",
            "54000/54000 [==============================] - 2s 34us/step - loss: 0.0494 - acc: 0.9840 - val_loss: 0.0264 - val_acc: 0.9917\n",
            "Epoch 37/50\n",
            "54000/54000 [==============================] - 2s 35us/step - loss: 0.0506 - acc: 0.9839 - val_loss: 0.0241 - val_acc: 0.9928\n",
            "Epoch 38/50\n",
            "54000/54000 [==============================] - 2s 35us/step - loss: 0.0478 - acc: 0.9847 - val_loss: 0.0258 - val_acc: 0.9927\n",
            "Epoch 39/50\n",
            "54000/54000 [==============================] - 2s 35us/step - loss: 0.0476 - acc: 0.9848 - val_loss: 0.0256 - val_acc: 0.9920\n",
            "Epoch 40/50\n",
            "54000/54000 [==============================] - 2s 35us/step - loss: 0.0466 - acc: 0.9857 - val_loss: 0.0259 - val_acc: 0.9917\n",
            "Epoch 41/50\n",
            "54000/54000 [==============================] - 2s 34us/step - loss: 0.0459 - acc: 0.9851 - val_loss: 0.0219 - val_acc: 0.9930\n",
            "Epoch 42/50\n",
            "54000/54000 [==============================] - 2s 34us/step - loss: 0.0453 - acc: 0.9854 - val_loss: 0.0241 - val_acc: 0.9925\n",
            "Epoch 43/50\n",
            "54000/54000 [==============================] - 2s 34us/step - loss: 0.0449 - acc: 0.9858 - val_loss: 0.0235 - val_acc: 0.9923\n",
            "Epoch 44/50\n",
            "54000/54000 [==============================] - 2s 34us/step - loss: 0.0469 - acc: 0.9850 - val_loss: 0.0254 - val_acc: 0.9937\n",
            "Epoch 45/50\n",
            "54000/54000 [==============================] - 2s 34us/step - loss: 0.0448 - acc: 0.9857 - val_loss: 0.0271 - val_acc: 0.9920\n",
            "Epoch 46/50\n",
            "54000/54000 [==============================] - 2s 34us/step - loss: 0.0454 - acc: 0.9858 - val_loss: 0.0246 - val_acc: 0.9917\n",
            "Epoch 47/50\n",
            "54000/54000 [==============================] - 2s 34us/step - loss: 0.0440 - acc: 0.9859 - val_loss: 0.0241 - val_acc: 0.9928\n",
            "Epoch 48/50\n",
            "54000/54000 [==============================] - 2s 34us/step - loss: 0.0421 - acc: 0.9862 - val_loss: 0.0234 - val_acc: 0.9930\n",
            "Epoch 49/50\n",
            "54000/54000 [==============================] - 2s 35us/step - loss: 0.0433 - acc: 0.9857 - val_loss: 0.0222 - val_acc: 0.9937\n",
            "Epoch 50/50\n",
            "54000/54000 [==============================] - 2s 34us/step - loss: 0.0431 - acc: 0.9865 - val_loss: 0.0225 - val_acc: 0.9932\n"
          ],
          "name": "stdout"
        },
        {
          "output_type": "execute_result",
          "data": {
            "text/plain": [
              "<keras.callbacks.History at 0x7f1da09ddb38>"
            ]
          },
          "metadata": {
            "tags": []
          },
          "execution_count": 30
        }
      ]
    },
    {
      "cell_type": "code",
      "metadata": {
        "id": "Bo1xaOHF6Z6C",
        "colab_type": "code",
        "outputId": "6341d43d-a33c-4a34-a70d-6e1fcb50373d",
        "colab": {
          "base_uri": "https://localhost:8080/",
          "height": 440
        }
      },
      "source": [
        "model.fit(X_train, Y_train, batch_size=512,nb_epoch=10, verbose=1,validation_split=0.1)"
      ],
      "execution_count": 33,
      "outputs": [
        {
          "output_type": "stream",
          "text": [
            "Train on 54000 samples, validate on 6000 samples\n",
            "Epoch 1/10\n",
            " 3072/54000 [>.............................] - ETA: 2s - loss: 0.0435 - acc: 0.9850"
          ],
          "name": "stdout"
        },
        {
          "output_type": "stream",
          "text": [
            "/usr/local/lib/python3.6/dist-packages/ipykernel_launcher.py:1: UserWarning: The `nb_epoch` argument in `fit` has been renamed `epochs`.\n",
            "  \"\"\"Entry point for launching an IPython kernel.\n"
          ],
          "name": "stderr"
        },
        {
          "output_type": "stream",
          "text": [
            "54000/54000 [==============================] - 2s 35us/step - loss: 0.0425 - acc: 0.9862 - val_loss: 0.0229 - val_acc: 0.9928\n",
            "Epoch 2/10\n",
            "54000/54000 [==============================] - 2s 33us/step - loss: 0.0420 - acc: 0.9863 - val_loss: 0.0230 - val_acc: 0.9927\n",
            "Epoch 3/10\n",
            "54000/54000 [==============================] - 2s 33us/step - loss: 0.0394 - acc: 0.9873 - val_loss: 0.0248 - val_acc: 0.9920\n",
            "Epoch 4/10\n",
            "54000/54000 [==============================] - 2s 34us/step - loss: 0.0392 - acc: 0.9872 - val_loss: 0.0234 - val_acc: 0.9920\n",
            "Epoch 5/10\n",
            "54000/54000 [==============================] - 2s 34us/step - loss: 0.0394 - acc: 0.9871 - val_loss: 0.0247 - val_acc: 0.9930\n",
            "Epoch 6/10\n",
            "54000/54000 [==============================] - 2s 34us/step - loss: 0.0403 - acc: 0.9870 - val_loss: 0.0248 - val_acc: 0.9923\n",
            "Epoch 7/10\n",
            "54000/54000 [==============================] - 2s 34us/step - loss: 0.0383 - acc: 0.9876 - val_loss: 0.0221 - val_acc: 0.9938\n",
            "Epoch 8/10\n",
            "54000/54000 [==============================] - 2s 34us/step - loss: 0.0393 - acc: 0.9873 - val_loss: 0.0232 - val_acc: 0.9925\n",
            "Epoch 9/10\n",
            "54000/54000 [==============================] - 2s 34us/step - loss: 0.0397 - acc: 0.9871 - val_loss: 0.0223 - val_acc: 0.9932\n",
            "Epoch 10/10\n",
            "54000/54000 [==============================] - 2s 34us/step - loss: 0.0363 - acc: 0.9878 - val_loss: 0.0215 - val_acc: 0.9937\n"
          ],
          "name": "stdout"
        },
        {
          "output_type": "execute_result",
          "data": {
            "text/plain": [
              "<keras.callbacks.History at 0x7f1da45452e8>"
            ]
          },
          "metadata": {
            "tags": []
          },
          "execution_count": 33
        }
      ]
    },
    {
      "cell_type": "code",
      "metadata": {
        "id": "AtsH-lLk-eLb",
        "colab_type": "code",
        "colab": {}
      },
      "source": [
        "score = model.evaluate(X_test, Y_test, verbose=0)"
      ],
      "execution_count": 0,
      "outputs": []
    },
    {
      "cell_type": "code",
      "metadata": {
        "id": "mkX8JMv79q9r",
        "colab_type": "code",
        "outputId": "04390a16-d28e-4a48-bf5d-d0b0cda6cbbd",
        "colab": {
          "base_uri": "https://localhost:8080/",
          "height": 34
        }
      },
      "source": [
        "print(score)"
      ],
      "execution_count": 35,
      "outputs": [
        {
          "output_type": "stream",
          "text": [
            "[0.016795197617393568, 0.9943]\n"
          ],
          "name": "stdout"
        }
      ]
    },
    {
      "cell_type": "markdown",
      "metadata": {
        "id": "9NIcSVUyPQEI",
        "colab_type": "text"
      },
      "source": [
        "**Observations**\n",
        "\n",
        "***With fixed batch size =32 and  epoch=10, tried changing architecture ***\n",
        "\n",
        "1.  *Without over fitting*\n",
        "Found to be have overfitting no proper accuracy\n",
        "Intorduced dropout and overfitting ws under control\n",
        "2.  *Standard architecture*\n",
        "Tried to follow standard architectures  to have intially lower number of filters  and gradually increase \n",
        "Tries with 8 and 16  channels for intial layer and then increased to 16,32 , but not much improvement in accuracy\n",
        "3  Added 1*1 filter\n",
        "Tried adding before and after maxpooling  with the aim to merge the pre existing features.but did find much difference in accuracy\n",
        "\n",
        "\n",
        "\n",
        "\n",
        "***Fixed the above architecture to 3 Convulation blocks and 2 transition blocks  with dropout and 1cross filter***\n",
        "\n",
        "\n",
        "1.Slowly increased the number of Epochs to 100 keeping batch size constant to 32 and architecture constant  with a thought process  that accurace will improve as it might take to converge .\n",
        "\n",
        "2. Tried with first with  batch sizes of 32 for 50 epochs and then with batch size of 64 for next 50 epochs with a thought process that backpropogation for different batch sie will help converge and get better accuracy\n",
        "\n",
        "3.  Slowly increased batch size upto 512 and fixing epochs to 100 and observed accuracy to improve.\n",
        "\n",
        "4.  Fixed batch size to 512  and tried to increase number of 200 found to have overfitting\n",
        "\n",
        "5. With trial and error fixed to 512 batch size and and 110 epochs found to get the accuracy above 99.40.\n",
        "\n",
        "\n",
        "**Learnings**   \n",
        "\n",
        "\n",
        "1.  Results were not repeatable as everytime value are intialized randomly\n",
        "\n",
        "2.  Increase batch size with fixed data set has  an impact of weight update\n",
        "\n",
        "3.  More number of epochs leads to overfitting\n",
        "\n",
        "4. Increase batch size  andreduce number of batch had an impact  on the  weight update and improve accuracy and reach stable gradient\n",
        "\n",
        "5. But teh same may not hold good for another kind of dataset.\n",
        "\n",
        "\n",
        "\n",
        "\n",
        "\n",
        "\n",
        "\n",
        "\n",
        "\n",
        "\n",
        "\n",
        "\n",
        "\n",
        "\n",
        "\n"
      ]
    },
    {
      "cell_type": "code",
      "metadata": {
        "id": "OCWoJkwE9suh",
        "colab_type": "code",
        "colab": {}
      },
      "source": [
        "y_pred = model.predict(X_test)"
      ],
      "execution_count": 0,
      "outputs": []
    },
    {
      "cell_type": "code",
      "metadata": {
        "id": "Ym7iCFBm9uBs",
        "colab_type": "code",
        "outputId": "a1b74cd3-c626-4841-b40b-590aba4ce8f5",
        "colab": {
          "base_uri": "https://localhost:8080/",
          "height": 487
        }
      },
      "source": [
        "print(y_pred[:9])\n",
        "print(y_test[:9])"
      ],
      "execution_count": 37,
      "outputs": [
        {
          "output_type": "stream",
          "text": [
            "[[5.94536790e-13 1.06766329e-09 1.48702853e-07 5.17094918e-08\n",
            "  4.93426654e-12 2.30173741e-10 9.69967393e-19 9.99999642e-01\n",
            "  4.55090098e-11 1.58266801e-07]\n",
            " [1.86768077e-07 5.81795393e-06 9.99991059e-01 1.14663671e-07\n",
            "  2.50819681e-07 5.75079949e-11 2.45929346e-06 1.77575510e-10\n",
            "  7.83902792e-08 3.38546496e-10]\n",
            " [7.80805143e-10 9.99988556e-01 5.75226636e-07 2.56992294e-08\n",
            "  9.01115527e-06 4.54707489e-08 3.30980782e-07 1.12694602e-06\n",
            "  3.18214290e-07 6.35826822e-08]\n",
            " [9.99675035e-01 1.16604885e-11 3.36191260e-06 3.17960307e-08\n",
            "  1.34161766e-07 1.73435694e-07 2.88520270e-04 1.15543430e-09\n",
            "  1.25795204e-05 2.02493629e-05]\n",
            " [3.94382894e-11 2.32565578e-10 8.37266523e-09 4.52986641e-11\n",
            "  9.99990106e-01 1.27417859e-11 2.70455978e-08 6.61653898e-10\n",
            "  1.00800968e-08 9.83231621e-06]\n",
            " [1.56875812e-09 9.99982953e-01 3.70117164e-07 1.60814251e-09\n",
            "  1.48008539e-05 2.27379116e-09 7.63514834e-08 1.63271886e-06\n",
            "  1.21732938e-07 5.45369119e-08]\n",
            " [8.67095702e-14 8.44758874e-10 1.04164288e-09 2.29203158e-12\n",
            "  9.99994159e-01 3.49986617e-09 4.76211258e-12 4.73424411e-09\n",
            "  4.91475021e-06 9.50385640e-07]\n",
            " [2.99815306e-09 1.28225930e-09 1.89184593e-05 1.11521358e-05\n",
            "  7.48606515e-04 3.01115124e-05 1.26288494e-10 2.90950368e-07\n",
            "  4.43613157e-04 9.98747230e-01]\n",
            " [2.21512579e-07 1.07875705e-11 1.59972330e-07 1.98237800e-08\n",
            "  1.16743071e-09 9.50908959e-01 4.38429788e-02 1.10148703e-10\n",
            "  5.15011372e-03 9.75421644e-05]]\n",
            "[7 2 1 0 4 1 4 9 5]\n"
          ],
          "name": "stdout"
        }
      ]
    },
    {
      "cell_type": "code",
      "metadata": {
        "id": "CT--y98_dr2T",
        "colab_type": "code",
        "colab": {}
      },
      "source": [
        "layer_dict = dict([(layer.name, layer) for layer in model.layers])"
      ],
      "execution_count": 0,
      "outputs": []
    },
    {
      "cell_type": "code",
      "metadata": {
        "id": "JQl3F_f1uwfO",
        "colab_type": "code",
        "colab": {
          "base_uri": "https://localhost:8080/",
          "height": 54
        },
        "outputId": "49e2d3fa-ee86-460f-d215-e9217989b434"
      },
      "source": [
        "print(layer_dict)"
      ],
      "execution_count": 48,
      "outputs": [
        {
          "output_type": "stream",
          "text": [
            "{'conv2d_22': <keras.layers.convolutional.Conv2D object at 0x7f1da0b8ba58>, 'conv2d_23': <keras.layers.convolutional.Conv2D object at 0x7f1da0b8bcc0>, 'conv2d_24': <keras.layers.convolutional.Conv2D object at 0x7f1da0ba57f0>, 'max_pooling2d_7': <keras.layers.pooling.MaxPooling2D object at 0x7f1da0b67358>, 'dropout_7': <keras.layers.core.Dropout object at 0x7f1da0ba5630>, 'conv2d_25': <keras.layers.convolutional.Conv2D object at 0x7f1da0b54cc0>, 'conv2d_26': <keras.layers.convolutional.Conv2D object at 0x7f1da0ba5668>, 'max_pooling2d_8': <keras.layers.pooling.MaxPooling2D object at 0x7f1da0ad2978>, 'dropout_8': <keras.layers.core.Dropout object at 0x7f1da0b01518>, 'conv2d_27': <keras.layers.convolutional.Conv2D object at 0x7f1da0ae78d0>, 'conv2d_28': <keras.layers.convolutional.Conv2D object at 0x7f1da0b11438>, 'flatten_4': <keras.layers.core.Flatten object at 0x7f1da0afccf8>, 'activation_4': <keras.layers.core.Activation object at 0x7f1da0afcb70>}\n"
          ],
          "name": "stdout"
        }
      ]
    },
    {
      "cell_type": "code",
      "metadata": {
        "id": "0vHIR0QwJyjb",
        "colab_type": "code",
        "colab": {
          "base_uri": "https://localhost:8080/",
          "height": 34
        },
        "outputId": "8f7362ee-d088-4abd-eee4-955c71d7625b"
      },
      "source": [
        "print(np.shape(X_train[2]))"
      ],
      "execution_count": 43,
      "outputs": [
        {
          "output_type": "stream",
          "text": [
            "(28, 28, 1)\n"
          ],
          "name": "stdout"
        }
      ]
    },
    {
      "cell_type": "code",
      "metadata": {
        "id": "-2cP6mEZLZ3m",
        "colab_type": "code",
        "colab": {
          "base_uri": "https://localhost:8080/",
          "height": 34
        },
        "outputId": "5ffcb849-0b19-4420-f77c-c772f4453427"
      },
      "source": [
        "layer_name='conv2d_23'\n",
        "layer_output = layer_dict[layer_name].output\n",
        "print(layer_output.shape[3])"
      ],
      "execution_count": 45,
      "outputs": [
        {
          "output_type": "stream",
          "text": [
            "32\n"
          ],
          "name": "stdout"
        }
      ]
    },
    {
      "cell_type": "code",
      "metadata": {
        "id": "2GY4Upv4dsUR",
        "colab_type": "code",
        "outputId": "5021d85f-176e-4c1e-8461-76d6d9104e43",
        "colab": {
          "base_uri": "https://localhost:8080/",
          "height": 837
        }
      },
      "source": [
        "import numpy as np\n",
        "from matplotlib import pyplot as plt\n",
        "from keras import backend as K\n",
        "%matplotlib inline\n",
        "# util function to convert a tensor into a valid image\n",
        "def deprocess_image(x):\n",
        "    # normalize tensor: center on 0., ensure std is 0.1\n",
        "    x -= x.mean()\n",
        "    x /= (x.std() + 1e-5)\n",
        "    x *= 0.1\n",
        "\n",
        "    # clip to [0, 1]\n",
        "    x += 0.5\n",
        "    x = np.clip(x, 0, 1)\n",
        "\n",
        "    # convert to RGB array\n",
        "    x *= 255\n",
        "    #x = x.transpose((1, 2, 0))\n",
        "    x = np.clip(x, 0, 255).astype('uint8')\n",
        "    return x\n",
        "\n",
        "def vis_img_in_filter(img = np.array(X_train[2]).reshape((1, 28, 28, 1)).astype(np.float64), \n",
        "                      layer_name = 'conv2d_23'):\n",
        "    layer_output = layer_dict[layer_name].output\n",
        "    img_ascs = list()\n",
        "    for filter_index in range(layer_output.shape[3]):\n",
        "        # build a loss function that maximizes the activation\n",
        "        # of the nth filter of the layer considered\n",
        "        loss = K.mean(layer_output[:, :, :, filter_index])\n",
        "\n",
        "        # compute the gradient of the input picture wrt this loss\n",
        "        grads = K.gradients(loss, model.input)[0]\n",
        "\n",
        "        # normalization trick: we normalize the gradient\n",
        "        grads /= (K.sqrt(K.mean(K.square(grads))) + 1e-5)\n",
        "\n",
        "        # this function returns the loss and grads given the input picture\n",
        "        iterate = K.function([model.input], [loss, grads])\n",
        "\n",
        "        # step size for gradient ascent\n",
        "        step = 5.\n",
        "\n",
        "        img_asc = np.array(img)\n",
        "        # run gradient ascent for 20 steps\n",
        "        for i in range(20):\n",
        "            loss_value, grads_value = iterate([img_asc])\n",
        "            img_asc += grads_value * step\n",
        "\n",
        "        img_asc = img_asc[0]\n",
        "        img_ascs.append(deprocess_image(img_asc).reshape((28, 28)))\n",
        "        \n",
        "    if layer_output.shape[3] >= 35:\n",
        "        plot_x, plot_y = 6, 6\n",
        "    elif layer_output.shape[3] >= 23:\n",
        "        plot_x, plot_y = 4, 6\n",
        "    elif layer_output.shape[3] >= 11:\n",
        "        plot_x, plot_y = 2, 6\n",
        "    else:\n",
        "        plot_x, plot_y = 1, 2\n",
        "    fig, ax = plt.subplots(plot_x, plot_y, figsize = (12, 12))\n",
        "    ax[0, 0].imshow(img.reshape((28, 28)), cmap = 'gray')\n",
        "    ax[0, 0].set_title('Input image')\n",
        "    fig.suptitle('Input image and %s filters' % (layer_name,))\n",
        "    fig.tight_layout(pad = 0.3, rect = [0, 0, 0.9, 0.9])\n",
        "    for (x, y) in [(i, j) for i in range(plot_x) for j in range(plot_y)]:\n",
        "        if x == 0 and y == 0:\n",
        "            continue\n",
        "        ax[x, y].imshow(img_ascs[x * plot_y + y - 1], cmap = 'gray')\n",
        "        ax[x, y].set_title('filter %d' % (x * plot_y + y - 1))\n",
        "\n",
        "vis_img_in_filter()"
      ],
      "execution_count": 42,
      "outputs": [
        {
          "output_type": "display_data",
          "data": {
            "image/png": "[encoded data removed]",
            "text/plain": [
              "<Figure size 864x864 with 24 Axes>"
            ]
          },
          "metadata": {
            "tags": []
          }
        }
      ]
    },
    {
      "cell_type": "code",
      "metadata": {
        "id": "9tvptcn8dxvp",
        "colab_type": "code",
        "colab": {}
      },
      "source": [
        ""
      ],
      "execution_count": 0,
      "outputs": []
    }
  ]
}