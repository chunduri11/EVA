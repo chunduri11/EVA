{
  "nbformat": 4,
  "nbformat_minor": 0,
  "metadata": {
    "colab": {
      "name": "Session_9_RL.ipynb",
      "provenance": [],
      "collapsed_sections": [],
      "include_colab_link": true
    },
    "kernelspec": {
      "name": "python3",
      "display_name": "Python 3"
    },
    "accelerator": "GPU"
  },
  "cells": [
    {
      "cell_type": "markdown",
      "metadata": {
        "id": "view-in-github",
        "colab_type": "text"
      },
      "source": [
        "<a href=\"https://colab.research.google.com/github/pasumarthi/EVA/blob/master/Phase2/Session_9_RL.ipynb\" target=\"_parent\"><img src=\"https://colab.research.google.com/assets/colab-badge.svg\" alt=\"Open In Colab\"/></a>"
      ]
    },
    {
      "cell_type": "code",
      "metadata": {
        "id": "amvMqP5Dywij",
        "colab_type": "code",
        "colab": {}
      },
      "source": [
        "# !pip install pybullet"
      ],
      "execution_count": 0,
      "outputs": []
    },
    {
      "cell_type": "code",
      "metadata": {
        "id": "MZ0R_WVmgrbt",
        "colab_type": "code",
        "colab": {}
      },
      "source": [
        "import os\n",
        "import time\n",
        "import random\n",
        "import numpy as np\n",
        "import matplotlib.pyplot as plt\n",
        "import pybullet_envs\n",
        "import gym\n",
        "import torch\n",
        "import torch.nn as nn\n",
        "import torch.nn.functional as F\n",
        "from gym import wrappers\n",
        "from torch.autograd import Variable\n",
        "from collections import deque"
      ],
      "execution_count": 0,
      "outputs": []
    },
    {
      "cell_type": "markdown",
      "metadata": {
        "id": "gHCr13gQIP7E",
        "colab_type": "text"
      },
      "source": [
        ""
      ]
    },
    {
      "cell_type": "code",
      "metadata": {
        "id": "VmO2bus0hQDK",
        "colab_type": "code",
        "colab": {}
      },
      "source": [
        "class ReplayBuffer(object):\n",
        "  def __inti__(self, max_size = 1e6):\n",
        "    self.storage = []\n",
        "    self.max_size = max_size\n",
        "    self.ptr = 0\n",
        "\n",
        "  def add(self, transition):\n",
        "    if len(self.storage) == self.max_size:\n",
        "      self.storage[int(self.ptr)] = transition\n",
        "      self.ptr = (self.ptr + 1) % self.max_size\n",
        "    else:\n",
        "      self.storage.append(transition)\n",
        "\n",
        "  def sample(self, batch_size):\n",
        "    ind = np.random.randint(0, len(self.storage), batch_size)\n",
        "    batch_states, batch_next_states, batch_actions, batch_rewards, barch_dones = [], [], [], [],[]\n",
        "    for i in ind:\n",
        "      state, next_state, action, reward, done = self.storage[i]\n",
        "      batch_states.append(np.array(state, copy=False))\n",
        "      batch_next_states.append(np.array(next_state, copy=False))\n",
        "      batch_actions.append(np.array(action, copy=False))\n",
        "      batch_rewards.append(np.array(reward, copy=False))\n",
        "      barch_dones.append(np.array(done, copy=False))\n",
        "    return np.array(batch_states), np.array(batch_next_states), np.array(batch_actions), np.array(batch_rewards).reshape(-1,1), \\\n",
        "            np.array(batch_dones).reshape(-1,1)"
      ],
      "execution_count": 0,
      "outputs": []
    },
    {
      "cell_type": "code",
      "metadata": {
        "id": "-qEOBj10lKVv",
        "colab_type": "code",
        "colab": {}
      },
      "source": [
        "class Actor(nn.Module):\n",
        "\n",
        "  def __init__(self, state_dims, action_dim, max_action):\n",
        "    super(Actor, self).__init__()\n",
        "    self.layer_1 = nn.Linear(state_dims, 400)\n",
        "    self.layer_2 = nn.Linear(400, 300)\n",
        "    self.layer_3 = nn.Linear(300, action_dim)\n",
        "    self.max_action = max_action\n",
        "\n",
        "  def forward(self, x):\n",
        "    x = F.relu(self.layer_1(x))\n",
        "    x = F.relu(self.layer_2(x))\n",
        "    x = self.max_action * torch.tanh(self.layer_3(x))\n",
        "    return x"
      ],
      "execution_count": 0,
      "outputs": []
    },
    {
      "cell_type": "code",
      "metadata": {
        "id": "WiqY_AC3l7D7",
        "colab_type": "code",
        "outputId": "8edcd205-bf8b-46a8-b34b-0ea4bbb64f66",
        "colab": {
          "base_uri": "https://localhost:8080/",
          "height": 35
        }
      },
      "source": [
        "class Critic(nn.Module):\n",
        "\n",
        "  def __init__(self, state_dims, action_dim):\n",
        "    super(Critic, self).__init__()\n",
        "    self.layer_1 = nn.Linear(state_dims + action_dim, 400)\n",
        "    self.layer_2 = nn.Linear(400, 300)\n",
        "    self.layer_3 = nn.Linear(300, action_dim)\n",
        "\n",
        "    self.layer_4 = nn.Linear(state_dims +action_dim, 400)\n",
        "    self.layer_5 = nn.Linear(400, 300)\n",
        "    self.layer_6 = nn.Linear(300, action_dim)\n",
        "\n",
        "  def forward(self, x, u):\n",
        "    xu = torch.cat([x, u], 1)\n",
        "    # forward propagation on first Critic\n",
        "    x1 = F.relu(self.layer_1(xu))\n",
        "    x1 = F.relu(self.layer_2(x1))\n",
        "    x1 = self.layer_3(x1)\n",
        "    # forward propagation on second Critic\n",
        "    x2 = F.relu(self.layer_4(xu))\n",
        "    x2 = F.relu(self.layer_5(x2))\n",
        "    x2 = self.layer_6(x2)\n",
        "\n",
        "    return x1, x2\n",
        "\n",
        "  def Q1(self, x, u):\n",
        "    xu = torch.cat([x, u], 1)\n",
        "    x1 = F.relu(self.layer_1(xu))\n",
        "    x1 = F.relu(self.layer_2(x1))\n",
        "    x1 = self.layer_3(x1)\n",
        "    return x1"
      ],
      "execution_count": 0,
      "outputs": [
        {
          "output_type": "stream",
          "text": [
            "ERROR! Session/line number was not unique in database. History logging moved to new session 59\n"
          ],
          "name": "stdout"
        }
      ]
    },
    {
      "cell_type": "markdown",
      "metadata": {
        "id": "15WxEBIQbw4y",
        "colab_type": "text"
      },
      "source": [
        "**Step-4:**\n",
        "1. Load samples from replay buffer in batches, for state, next_state,action, reward and done(flag to show status of episode)\n",
        "2. Load these samples on to the device(cpu or gpu)."
      ]
    },
    {
      "cell_type": "markdown",
      "metadata": {
        "id": "Kya3P5onc9bz",
        "colab_type": "text"
      },
      "source": [
        "**Step-5:**\n",
        "1. Using next_state(s') calculate next action(a') with the actor target model as its forward pass. \n"
      ]
    },
    {
      "cell_type": "markdown",
      "metadata": {
        "id": "cU8R0bfFdwzK",
        "colab_type": "text"
      },
      "source": [
        "**Step-6:**\n",
        "1. Add noise to the next action(a') from a normal distribution. \n",
        "2. Clip the a' values to main a range of values with in the normal distribution."
      ]
    },
    {
      "cell_type": "markdown",
      "metadata": {
        "id": "o9uZM4tSeOpl",
        "colab_type": "text"
      },
      "source": [
        "**Step-7:**\n",
        "1. Using both s' and a' with added noise calculate Q1t and Q2t values for both critic targets as its forward pass."
      ]
    },
    {
      "cell_type": "markdown",
      "metadata": {
        "id": "sWRELOa0emKR",
        "colab_type": "text"
      },
      "source": [
        "**Step-8:**\n",
        "1. Of the two critic target values, take the minimum value.\n",
        "2. We take the minimum value to avoid the over estimation of the Q-value and overcome the problem of variance."
      ]
    },
    {
      "cell_type": "markdown",
      "metadata": {
        "id": "mVlnB235gj2d",
        "colab_type": "text"
      },
      "source": [
        "**Step-9:**\n",
        "1. Target Q-values(min of two critic targets), is discounted from next_state(s') to state(s) and added to current state-action reward.(Bellmen eq)\n",
        "2. When the terminal state of the episode  is reached, the next state does not exist. To show this we use flag 'done', with done being 1 if the state is the terminal state 0 otherwise.\n",
        "If we reached end of episode done=1, and right side of plus symbol becomes zero.\n",
        "3. detatch in pytorch."
      ]
    },
    {
      "cell_type": "markdown",
      "metadata": {
        "id": "CWuADN_npN0y",
        "colab_type": "text"
      },
      "source": [
        "**Step-10:**\n",
        "1. Predict state(s) Q-values with critic-model using state(s) and corresponding action(a) values taken form replay buffer in forward pass."
      ]
    },
    {
      "cell_type": "markdown",
      "metadata": {
        "id": "jss1a7yPpR73",
        "colab_type": "text"
      },
      "source": [
        "**Step-11:**\n",
        "1. calculate mse-loss using the optimal target Q-value as reference, with respect to corresponding Q-values(Q1,Q2) of critic-model. "
      ]
    },
    {
      "cell_type": "markdown",
      "metadata": {
        "id": "B2tdIKqPpUlU",
        "colab_type": "text"
      },
      "source": [
        "**Step-12:**\n",
        "1. Using the mse-loss from the Step-11, backpropagate to critic-models."
      ]
    },
    {
      "cell_type": "markdown",
      "metadata": {
        "id": "OZ2uxyrqpXKp",
        "colab_type": "text"
      },
      "source": [
        "**Step-13:**\n",
        "1. We use critic-model(Q1) to update the actor model, by applying graiant ascent on the Q-value approximation function. \n",
        "2. Rather than doing gradinat ascent on Q-value, we are doing gradint descent on negative of Q-value.\n",
        "3. For every two critic-model updtes, we update the actor-model once. This is to delay the actor-model update, to avaoid instant updates to critics for stability."
      ]
    },
    {
      "cell_type": "markdown",
      "metadata": {
        "id": "pUrDCcv1pZQj",
        "colab_type": "text"
      },
      "source": [
        "**Step-14:**\n",
        "1. Polyak avg for critic-target models, to get stable target Q-values."
      ]
    },
    {
      "cell_type": "markdown",
      "metadata": {
        "id": "tTwfmQyHiCMO",
        "colab_type": "text"
      },
      "source": [
        "\n",
        "**Step-15:**\n",
        "1. Polyak avg for actor-target models, to get stable target Q-values."
      ]
    },
    {
      "cell_type": "code",
      "metadata": {
        "id": "OjFrUJwWnzA2",
        "colab_type": "code",
        "outputId": "e555bf3d-11d2-4979-a504-a1fe26ac5611",
        "colab": {
          "base_uri": "https://localhost:8080/",
          "height": 35
        }
      },
      "source": [
        "device = torch.device('cuda' if torch.cuda.is_available() else 'cpu')\n",
        "print(device)\n",
        "\n",
        "class T3D(object):\n",
        "  def __init__(self, state_dims, action_sim, max_action):\n",
        "    # making sure our T3D class can work with any env\n",
        "    self.actor = Actor(state_dims, action_dim, max_action).to(device)\n",
        "    self.actor_target = Actor(state_dims, action_dim, max_action).to(device)\n",
        "    self.actor_target.laod_state_dict(self.actor.laod_state_dict)\n",
        "    # initializing with model weights to keep them same \n",
        "    self.actor_optimizer = torch.optim.Adam(self.actor.parameters())\n",
        "\n",
        "    self.critic = Critic(state_dims, action_dim).to(device)\n",
        "    self.critic_target = critic(state_dims, action_dim).to(device)\n",
        "    self.ciritc_target.laod_state_dict(self.critic.state_dict)\n",
        "    # initializing with model weight to keep them same\n",
        "    self.critic_optimizer = torch.optim.Adam(self.critic.parameters())\n",
        "    self.max_action = max_action\n",
        "\n",
        "  def select_action(self, state):\n",
        "    state = torch.Tesor(state.reshape(1, -1)).to(device)\n",
        "    return self.actor(state).cpu().data.numpy().flatten()\n",
        "\n",
        "  def train(self, replay_buffer, iterations, batch_size=100, discount=0.99,\n",
        "            tau = 0.005, policy_noise=0.2, noise_clip=0.5, plicy_freq=2):\n",
        "    for it in range(iterations):\n",
        "      # Step 4 We sample form a batch of transitions (s,s',a,r) from memory\n",
        "      batch_states, batch_next_states, batch_actions, batch_rewards, batch_dones \\\n",
        "            = replay_buffer.sample(batch_size)\n",
        "      state = torch.Tensor(batch_states).to(device)\n",
        "      next_state = torch.Tensor(batch_next_states).to(device)\n",
        "      action = torch.Tensor(batch_actions).to(device)\n",
        "      reward = torch.Tensor(batch_rewards).to(device)\n",
        "      done = torch.Tensor(batch_dones).to(device)\n",
        "\n",
        "      # Step 5: From the next state s', the Actor target plays the next actions a'\n",
        "      next_action = self.actor_target.forward(next_state)\n",
        "\n",
        "      # Step 6: We add Gaussian noise to this next action a' and we clamp it in \n",
        "      # a range of values supported by the environment\n",
        "      noise = torch.Tensor(batch_actions).data.normal_(0, policy_noise).to(device)\n",
        "      noise = noise.clamp(-noise-clip, noise_clip)\n",
        "      next_action = (next_action + noise).clamp(-self.max_action, self.max_action)\n",
        "\n",
        "      # Step 7: Teh two critic targets take each teh couple (s',a') as input and \n",
        "      # return two Q values, Qt1(s', a') and Qt2(s', a') as outputs\n",
        "      target_Q1, target_Q2 = self.critic_target.forward(next_state, next_action)\n",
        "\n",
        "      # Step 8: We keep the minimum of these two Q-values\n",
        "      target_Q =torch.min(target_Q1, target_Q2)\n",
        "\n",
        "      # Step 9: We get the final target of the two Critic mdoel, which is:\n",
        "      target_Q = reward + ((1 - done) * discount * target_Q).detach()\n",
        "\n",
        "      # Step 10: The two critic models take each the couple (s,a),\n",
        "      # as input and return two Q values\n",
        "      current_Q1, current_Q2 = self.critic.forward(state, action)\n",
        "\n",
        "      # Step 11: We compute the loss coming from the two Critic models\n",
        "      critic_loss = F.mse_loss(current_Q1, target_Q) + F.mse_loss(current_Q2, target_Q)\n",
        "\n",
        "      # Step 12: We backpropaagate this Critic loss and upate the parameters of the two Critic\n",
        "      # models with a Adam optimizer\n",
        "      self.critic_optimizer.zero_grad()\n",
        "      critic_loss.backward()\n",
        "      self.critic_optimizer.step()\n",
        "\n",
        "      # Step 13: Once every two iterations, we update our Actor model by performing \n",
        "      # gradient ascent on the output of the first critic model\n",
        "      if it % plicy_freq == 0:\n",
        "        # This is DPG part\n",
        "        actor_loss = -(self.critic.Q1(state, self.actor(state).mean()))\n",
        "        self.actor_optimizer.grad_zero()\n",
        "        actor_loss.backward()\n",
        "        self.actor_optimizer.step()\n",
        "        # Step 14: Still once every two iterations, we update the weights of the Actor target by Polyak averaging\n",
        "        for param, target_param in zip(self.actor.parameters(), self.actor_target.parameters()):\n",
        "          target_param.data.copy_(tau * param.data + (1 - tau) * target_param.data)\n",
        "        \n",
        "        # Step 15: Still once every two iterations, we update the weights of the Critic target\n",
        "        # by Polyak averaging\n",
        "        for param, target_param in zip(self.critic.parameters(), self.critic_target.parameters()):\n",
        "          target_param.data.copy_(tau * param.data + (1 - tau) * target_param.data)\n",
        "\n",
        "# T3D is done now!"
      ],
      "execution_count": 0,
      "outputs": [
        {
          "output_type": "stream",
          "text": [
            "cuda\n"
          ],
          "name": "stdout"
        }
      ]
    },
    {
      "cell_type": "code",
      "metadata": {
        "id": "AMmKKR2EzB0S",
        "colab_type": "code",
        "colab": {}
      },
      "source": [
        ""
      ],
      "execution_count": 0,
      "outputs": []
    }
  ]
}