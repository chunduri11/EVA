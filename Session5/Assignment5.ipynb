{
  "nbformat": 4,
  "nbformat_minor": 0,
  "metadata": {
    "colab": {
      "name": "Assignment5.ipynb",
      "version": "0.3.2",
      "provenance": [],
      "collapsed_sections": [
        "aNyZv-Ec52ot",
        "zByEi95J86RD",
        "N1CyQr4G4jPk",
        "6TIMIdHT4tmV",
        "x2zfe1q2Igyx",
        "8hpUdWeWJn9c",
        "DPXDo7B7gz_M",
        "yFMI5L0uH9jd",
        "opnZRfI3IqmV",
        "Ti2firEd1QAC"
      ],
      "include_colab_link": true
    },
    "kernelspec": {
      "name": "python3",
      "display_name": "Python 3"
    },
    "accelerator": "GPU"
  },
  "cells": [
    {
      "cell_type": "markdown",
      "metadata": {
        "id": "view-in-github",
        "colab_type": "text"
      },
      "source": [
        "<a href=\"https://colab.research.google.com/github/pasumarthi/EVA/blob/master/Session5/Assignment5.ipynb\" target=\"_parent\"><img src=\"https://colab.research.google.com/assets/colab-badge.svg\" alt=\"Open In Colab\"/></a>"
      ]
    },
    {
      "cell_type": "markdown",
      "metadata": {
        "id": "aNyZv-Ec52ot",
        "colab_type": "text"
      },
      "source": [
        "###Import Libraries and modules**"
      ]
    },
    {
      "cell_type": "markdown",
      "metadata": {
        "id": "LvUDk0so4hCU",
        "colab_type": "text"
      },
      "source": [
        "MaxPooling,Dropout 1*1,Batch Normalization,ModelCheckpoint Learning rate"
      ]
    },
    {
      "cell_type": "code",
      "metadata": {
        "id": "3m3w1Cw49Zkt",
        "colab_type": "code",
        "outputId": "35d3aaa9-8afc-4697-df9d-f034c6ae9204",
        "colab": {
          "base_uri": "https://localhost:8080/",
          "height": 34
        }
      },
      "source": [
        "# https://keras.io/\n",
        "#!pip install -q keras\n",
        "import keras"
      ],
      "execution_count": 0,
      "outputs": [
        {
          "output_type": "stream",
          "text": [
            "Using TensorFlow backend.\n"
          ],
          "name": "stderr"
        }
      ]
    },
    {
      "cell_type": "code",
      "metadata": {
        "id": "Eso6UHE080D4",
        "colab_type": "code",
        "colab": {}
      },
      "source": [
        "import numpy as np\n",
        "\n",
        "from keras.models import Sequential\n",
        "from keras.layers import Dense, Dropout, Activation, Flatten, Add,BatchNormalization\n",
        "from keras.layers import Conv2D, MaxPooling2D,Convolution2D\n",
        "from keras.utils import np_utils\n",
        "from keras.optimizers import Adam\n",
        "\n",
        "from keras.regularizers import l2\n",
        "\n",
        "from keras.callbacks import EarlyStopping\n",
        "from keras.preprocessing.image import ImageDataGenerator\n",
        "from keras.datasets import mnist\n",
        "from matplotlib import pyplot\n",
        "from keras.callbacks import ReduceLROnPlateau"
      ],
      "execution_count": 0,
      "outputs": []
    },
    {
      "cell_type": "code",
      "metadata": {
        "id": "q64-YxbRblcw",
        "colab_type": "code",
        "outputId": "d075b519-da66-4ba9-da07-f4b8295b52d5",
        "colab": {
          "base_uri": "https://localhost:8080/",
          "height": 34
        }
      },
      "source": [
        "from google.colab import drive\n",
        "drive.mount('/content/gdrive')"
      ],
      "execution_count": 0,
      "outputs": [
        {
          "output_type": "stream",
          "text": [
            "Drive already mounted at /content/gdrive; to attempt to forcibly remount, call drive.mount(\"/content/gdrive\", force_remount=True).\n"
          ],
          "name": "stdout"
        }
      ]
    },
    {
      "cell_type": "markdown",
      "metadata": {
        "id": "zByEi95J86RD",
        "colab_type": "text"
      },
      "source": [
        "### Load pre-shuffled MNIST data into train and test sets"
      ]
    },
    {
      "cell_type": "code",
      "metadata": {
        "id": "7eRM0QWN83PV",
        "colab_type": "code",
        "outputId": "124bc67a-a1f8-4413-c228-dc29ac18faf9",
        "colab": {
          "base_uri": "https://localhost:8080/",
          "height": 67
        }
      },
      "source": [
        "(X_train, y_train), (X_test, y_test) = mnist.load_data()\n",
        "\n",
        "print(X_train.shape)"
      ],
      "execution_count": 0,
      "outputs": [
        {
          "output_type": "stream",
          "text": [
            "Downloading data from https://s3.amazonaws.com/img-datasets/mnist.npz\n",
            "11493376/11490434 [==============================] - 1s 0us/step\n",
            "(60000, 28, 28)\n"
          ],
          "name": "stdout"
        }
      ]
    },
    {
      "cell_type": "code",
      "metadata": {
        "id": "4a4Be72j8-ZC",
        "colab_type": "code",
        "outputId": "fe8cb7fd-478d-4540-f1a9-deddd845ede2",
        "colab": {
          "base_uri": "https://localhost:8080/",
          "height": 302
        }
      },
      "source": [
        "print (X_train.shape)\n",
        "from matplotlib import pyplot as plt\n",
        "%matplotlib inline\n",
        "plt.imshow(X_train[1])\n"
      ],
      "execution_count": 0,
      "outputs": [
        {
          "output_type": "stream",
          "text": [
            "(60000, 28, 28)\n"
          ],
          "name": "stdout"
        },
        {
          "output_type": "execute_result",
          "data": {
            "text/plain": [
              "<matplotlib.image.AxesImage at 0x7f320f0f3e10>"
            ]
          },
          "metadata": {
            "tags": []
          },
          "execution_count": 4
        },
        {
          "output_type": "display_data",
          "data": {
            "image/png": "[encoded data removed]",
            "text/plain": [
              "<Figure size 432x288 with 1 Axes>"
            ]
          },
          "metadata": {
            "tags": []
          }
        }
      ]
    },
    {
      "cell_type": "code",
      "metadata": {
        "id": "RcE8rnzDZVow",
        "colab_type": "code",
        "outputId": "3e61f136-a426-4e10-c176-b7bbda7a14da",
        "colab": {
          "base_uri": "https://localhost:8080/",
          "height": 34
        }
      },
      "source": [
        "print('Statistics train=%.3f (%.3f), test=%.3f (%.3f)' % (X_train.mean(), X_train.std(), X_test.mean(), X_test.std()))"
      ],
      "execution_count": 0,
      "outputs": [
        {
          "output_type": "stream",
          "text": [
            "Statistics train=33.318 (78.567), test=33.791 (79.172)\n"
          ],
          "name": "stdout"
        }
      ]
    },
    {
      "cell_type": "code",
      "metadata": {
        "id": "dkmprriw9AnZ",
        "colab_type": "code",
        "colab": {}
      },
      "source": [
        "X_train = X_train.reshape(X_train.shape[0], 28, 28,1)\n",
        "X_test = X_test.reshape(X_test.shape[0], 28, 28,1)\n",
        "\n",
        "X_train = X_train.astype('float32')\n",
        "X_test = X_test.astype('float32')"
      ],
      "execution_count": 0,
      "outputs": []
    },
    {
      "cell_type": "code",
      "metadata": {
        "id": "ZG8JiXR39FHC",
        "colab_type": "code",
        "outputId": "3fad729b-7700-45ae-adc9-ec644371ccdd",
        "colab": {
          "base_uri": "https://localhost:8080/",
          "height": 185
        }
      },
      "source": [
        "# Convert 1-dimensional class arrays to 10-dimensional class matrices\n",
        "Y_train = np_utils.to_categorical(y_train, 10)\n",
        "Y_test = np_utils.to_categorical(y_test, 10)\n",
        "\n",
        "Y_train[:10]"
      ],
      "execution_count": 0,
      "outputs": [
        {
          "output_type": "execute_result",
          "data": {
            "text/plain": [
              "array([[0., 0., 0., 0., 0., 1., 0., 0., 0., 0.],\n",
              "       [1., 0., 0., 0., 0., 0., 0., 0., 0., 0.],\n",
              "       [0., 0., 0., 0., 1., 0., 0., 0., 0., 0.],\n",
              "       [0., 1., 0., 0., 0., 0., 0., 0., 0., 0.],\n",
              "       [0., 0., 0., 0., 0., 0., 0., 0., 0., 1.],\n",
              "       [0., 0., 1., 0., 0., 0., 0., 0., 0., 0.],\n",
              "       [0., 1., 0., 0., 0., 0., 0., 0., 0., 0.],\n",
              "       [0., 0., 0., 1., 0., 0., 0., 0., 0., 0.],\n",
              "       [0., 1., 0., 0., 0., 0., 0., 0., 0., 0.],\n",
              "       [0., 0., 0., 0., 1., 0., 0., 0., 0., 0.]], dtype=float32)"
            ]
          },
          "metadata": {
            "tags": []
          },
          "execution_count": 7
        }
      ]
    },
    {
      "cell_type": "markdown",
      "metadata": {
        "id": "N1CyQr4G4jPk",
        "colab_type": "text"
      },
      "source": [
        "### Architecture"
      ]
    },
    {
      "cell_type": "code",
      "metadata": {
        "id": "8Jg8hVqvzYuj",
        "colab_type": "code",
        "outputId": "8154148c-6fe8-45cb-9e94-c138ac8a1bb4",
        "colab": {
          "base_uri": "https://localhost:8080/",
          "height": 739
        }
      },
      "source": [
        "from keras.layers import Activation\n",
        "model = Sequential()\n",
        "\n",
        " \n",
        "model.add(Conv2D(8,(3, 3), activation='relu', input_shape=(28,28,1))) #26\n",
        "\n",
        "model.add(Conv2D(16,(3, 3), activation='relu',kernel_regularizer=l2(0.01))) #24\n",
        "\n",
        "model.add(BatchNormalization())\n",
        "model.add(Dropout(0.1))\n",
        "model.add(MaxPooling2D(pool_size=(2, 2)))#12\n",
        "model.add(Conv2D(8,(1, 1), activation='relu'))#12  \n",
        "\n",
        "\n",
        "model.add(Conv2D(16,(3,3), activation='relu',kernel_regularizer=l2(0.01))) #10\n",
        "model.add(BatchNormalization())\n",
        "model.add(Dropout(0.1))\n",
        "#model.add(Conv2D(16, (3, 3), activation='relu')) #8\n",
        "model.add(Conv2D(16, (3, 3), activation='relu',kernel_regularizer=l2(0.01))) #8\n",
        "\n",
        "\n",
        "model.add(BatchNormalization())\n",
        "model.add(Dropout(0.2))\n",
        "model.add(MaxPooling2D(pool_size=(2, 2)))#4\n",
        "model.add(Conv2D(8,(1, 1), activation='relu'))#4\n",
        "\n",
        "\n",
        "model.add(Conv2D(16,(3,3), activation='relu')) #2\n",
        "model.add(Conv2D(10,(2,2)))\n",
        "model.add(Flatten())\n",
        "model.add(Activation('softmax'))\n",
        "\n",
        "model.summary()"
      ],
      "execution_count": 0,
      "outputs": [
        {
          "output_type": "stream",
          "text": [
            "_________________________________________________________________\n",
            "Layer (type)                 Output Shape              Param #   \n",
            "=================================================================\n",
            "conv2d_49 (Conv2D)           (None, 26, 26, 8)         80        \n",
            "_________________________________________________________________\n",
            "conv2d_50 (Conv2D)           (None, 24, 24, 16)        1168      \n",
            "_________________________________________________________________\n",
            "batch_normalization_19 (Batc (None, 24, 24, 16)        64        \n",
            "_________________________________________________________________\n",
            "dropout_19 (Dropout)         (None, 24, 24, 16)        0         \n",
            "_________________________________________________________________\n",
            "max_pooling2d_13 (MaxPooling (None, 12, 12, 16)        0         \n",
            "_________________________________________________________________\n",
            "conv2d_51 (Conv2D)           (None, 12, 12, 8)         136       \n",
            "_________________________________________________________________\n",
            "conv2d_52 (Conv2D)           (None, 10, 10, 16)        1168      \n",
            "_________________________________________________________________\n",
            "batch_normalization_20 (Batc (None, 10, 10, 16)        64        \n",
            "_________________________________________________________________\n",
            "dropout_20 (Dropout)         (None, 10, 10, 16)        0         \n",
            "_________________________________________________________________\n",
            "conv2d_53 (Conv2D)           (None, 8, 8, 16)          2320      \n",
            "_________________________________________________________________\n",
            "batch_normalization_21 (Batc (None, 8, 8, 16)          64        \n",
            "_________________________________________________________________\n",
            "dropout_21 (Dropout)         (None, 8, 8, 16)          0         \n",
            "_________________________________________________________________\n",
            "max_pooling2d_14 (MaxPooling (None, 4, 4, 16)          0         \n",
            "_________________________________________________________________\n",
            "conv2d_54 (Conv2D)           (None, 4, 4, 8)           136       \n",
            "_________________________________________________________________\n",
            "conv2d_55 (Conv2D)           (None, 2, 2, 16)          1168      \n",
            "_________________________________________________________________\n",
            "conv2d_56 (Conv2D)           (None, 1, 1, 10)          650       \n",
            "_________________________________________________________________\n",
            "flatten_7 (Flatten)          (None, 10)                0         \n",
            "_________________________________________________________________\n",
            "activation_7 (Activation)    (None, 10)                0         \n",
            "=================================================================\n",
            "Total params: 7,018\n",
            "Trainable params: 6,922\n",
            "Non-trainable params: 96\n",
            "_________________________________________________________________\n"
          ],
          "name": "stdout"
        }
      ]
    },
    {
      "cell_type": "markdown",
      "metadata": {
        "id": "6TIMIdHT4tmV",
        "colab_type": "text"
      },
      "source": [
        " ### Learning rate "
      ]
    },
    {
      "cell_type": "code",
      "metadata": {
        "id": "Zp6SuGrL9M3h",
        "colab_type": "code",
        "outputId": "6f91f90d-d311-41e5-a777-17a0e40c0c42",
        "colab": {
          "base_uri": "https://localhost:8080/",
          "height": 34
        }
      },
      "source": [
        "from keras.optimizers import Adam\n",
        "from keras.callbacks import LearningRateScheduler\n",
        "def scheduler(epoch):\n",
        "  if (epoch <= 3 ):\n",
        "   return 0.003\n",
        "  elif(epoch <=6):\n",
        "   return 0.002\n",
        "  elif(epoch <=9):\n",
        "   return 0.001\n",
        "  elif(epoch <=15):\n",
        "   return 0.0005 \n",
        "  else: \n",
        "   return round(0.001 * 1/(1 + 0.319 * epoch), 10)\n",
        "\n",
        "\n",
        "\"\"\"\n",
        "  elif(epoch <=20):\n",
        "   return 0.000025\n",
        "  elif(epoch <=25):\n",
        "   return 0.0000125\n",
        "  elif(epoch <=30):\n",
        "   return 0.0000093755\n",
        "   \"\"\"\n",
        "   \n"
      ],
      "execution_count": 0,
      "outputs": [
        {
          "output_type": "execute_result",
          "data": {
            "text/plain": [
              "'\\n  elif(epoch <=20):\\n   return 0.000025\\n  elif(epoch <=25):\\n   return 0.0000125\\n  elif(epoch <=30):\\n   return 0.0000093755\\n   '"
            ]
          },
          "metadata": {
            "tags": []
          },
          "execution_count": 42
        }
      ]
    },
    {
      "cell_type": "markdown",
      "metadata": {
        "id": "x2zfe1q2Igyx",
        "colab_type": "text"
      },
      "source": [
        "### Compile & CallBack"
      ]
    },
    {
      "cell_type": "code",
      "metadata": {
        "id": "6W-2i3jpIVZ1",
        "colab_type": "code",
        "colab": {}
      },
      "source": [
        "model.compile(loss='categorical_crossentropy',\n",
        "             optimizer=Adam(),\n",
        "             metrics=['accuracy'])\n",
        "from keras.callbacks import ModelCheckpoint\n",
        "lr1=LearningRateScheduler(scheduler, verbose=1)\n",
        "#reduce_lr_loss = ReduceLROnPlateau(monitor='val_loss', factor=0.1, patience=7, verbose=1, epsilon=1e-4, mode='min')\n",
        "#filepath=\"/content/gdrive/My Drive/EVA/Session5\\\\weights-improvement-epoch={epoch:03d}--accuracy={val_acc:.2f}.hdf5\"\n",
        "filepath=\"/content/gdrive/My Drive/EVA/Session5\\\\saveBest.hdf5\"\n",
        "checkpoint = ModelCheckpoint(filepath, monitor='val_acc', verbose=1, mode='auto', save_best_only=True, save_weights_only=False)"
      ],
      "execution_count": 0,
      "outputs": []
    },
    {
      "cell_type": "markdown",
      "metadata": {
        "id": "POTG0-31KBej",
        "colab_type": "text"
      },
      "source": [
        "### ImageNormalization"
      ]
    },
    {
      "cell_type": "code",
      "metadata": {
        "id": "SyLKf5eWdisQ",
        "colab_type": "code",
        "colab": {}
      },
      "source": [
        "datagen = keras.preprocessing.image.ImageDataGenerator(featurewise_center=True,featurewise_std_normalization=True,validation_split=0.1)\n",
        "datagen.fit(X_train)\n",
        "datagen.fit(X_test)\n",
        "\n",
        "train_iterator = datagen.flow(X_train, Y_train, batch_size=128)\n",
        "\n",
        "test_iterator = datagen.flow(X_test, Y_test, batch_size=128)\n",
        "#print(len(train_iterator))\n",
        "#print(len(test_iterator))\n"
      ],
      "execution_count": 0,
      "outputs": []
    },
    {
      "cell_type": "markdown",
      "metadata": {
        "id": "8hpUdWeWJn9c",
        "colab_type": "text"
      },
      "source": [
        "### Model Running"
      ]
    },
    {
      "cell_type": "code",
      "metadata": {
        "id": "Smx_B48lCDPi",
        "colab_type": "code",
        "outputId": "8cecfe57-3136-4031-c4e1-a01911bafc92",
        "colab": {
          "base_uri": "https://localhost:8080/",
          "height": 4066
        }
      },
      "source": [
        "model.fit_generator(train_iterator, steps_per_epoch=len(train_iterator), epochs=40, verbose=1, validation_data=test_iterator,\n",
        "                   validation_steps=len(test_iterator),callbacks=[lr1,checkpoint])\n"
      ],
      "execution_count": 0,
      "outputs": [
        {
          "output_type": "stream",
          "text": [
            "Epoch 1/40\n",
            "\n",
            "Epoch 00001: LearningRateScheduler setting learning rate to 0.003.\n",
            "469/469 [==============================] - 9s 19ms/step - loss: 0.4081 - acc: 0.9140 - val_loss: 0.1775 - val_acc: 0.9653\n",
            "\n",
            "Epoch 00001: val_acc improved from -inf to 0.96530, saving model to /content/gdrive/My Drive/EVA/Session5\\saveBest.hdf5\n",
            "Epoch 2/40\n",
            "\n",
            "Epoch 00002: LearningRateScheduler setting learning rate to 0.003.\n",
            "469/469 [==============================] - 6s 12ms/step - loss: 0.1412 - acc: 0.9715 - val_loss: 0.1430 - val_acc: 0.9675\n",
            "\n",
            "Epoch 00002: val_acc improved from 0.96530 to 0.96750, saving model to /content/gdrive/My Drive/EVA/Session5\\saveBest.hdf5\n",
            "Epoch 3/40\n",
            "\n",
            "Epoch 00003: LearningRateScheduler setting learning rate to 0.003.\n",
            "469/469 [==============================] - 6s 12ms/step - loss: 0.1225 - acc: 0.9755 - val_loss: 0.2015 - val_acc: 0.9484\n",
            "\n",
            "Epoch 00003: val_acc did not improve from 0.96750\n",
            "Epoch 4/40\n",
            "\n",
            "Epoch 00004: LearningRateScheduler setting learning rate to 0.003.\n",
            "469/469 [==============================] - 6s 12ms/step - loss: 0.1106 - acc: 0.9780 - val_loss: 0.1212 - val_acc: 0.9745\n",
            "\n",
            "Epoch 00004: val_acc improved from 0.96750 to 0.97450, saving model to /content/gdrive/My Drive/EVA/Session5\\saveBest.hdf5\n",
            "Epoch 5/40\n",
            "\n",
            "Epoch 00005: LearningRateScheduler setting learning rate to 0.002.\n",
            "469/469 [==============================] - 6s 12ms/step - loss: 0.0875 - acc: 0.9830 - val_loss: 0.0919 - val_acc: 0.9802\n",
            "\n",
            "Epoch 00005: val_acc improved from 0.97450 to 0.98020, saving model to /content/gdrive/My Drive/EVA/Session5\\saveBest.hdf5\n",
            "Epoch 6/40\n",
            "\n",
            "Epoch 00006: LearningRateScheduler setting learning rate to 0.002.\n",
            "469/469 [==============================] - 6s 12ms/step - loss: 0.0837 - acc: 0.9831 - val_loss: 0.0891 - val_acc: 0.9815\n",
            "\n",
            "Epoch 00006: val_acc improved from 0.98020 to 0.98150, saving model to /content/gdrive/My Drive/EVA/Session5\\saveBest.hdf5\n",
            "Epoch 7/40\n",
            "\n",
            "Epoch 00007: LearningRateScheduler setting learning rate to 0.002.\n",
            "469/469 [==============================] - 6s 12ms/step - loss: 0.0816 - acc: 0.9834 - val_loss: 0.0718 - val_acc: 0.9872\n",
            "\n",
            "Epoch 00007: val_acc improved from 0.98150 to 0.98720, saving model to /content/gdrive/My Drive/EVA/Session5\\saveBest.hdf5\n",
            "Epoch 8/40\n",
            "\n",
            "Epoch 00008: LearningRateScheduler setting learning rate to 0.001.\n",
            "469/469 [==============================] - 6s 12ms/step - loss: 0.0631 - acc: 0.9873 - val_loss: 0.0686 - val_acc: 0.9854\n",
            "\n",
            "Epoch 00008: val_acc did not improve from 0.98720\n",
            "Epoch 9/40\n",
            "\n",
            "Epoch 00009: LearningRateScheduler setting learning rate to 0.001.\n",
            "469/469 [==============================] - 6s 12ms/step - loss: 0.0574 - acc: 0.9879 - val_loss: 0.0652 - val_acc: 0.9849\n",
            "\n",
            "Epoch 00009: val_acc did not improve from 0.98720\n",
            "Epoch 10/40\n",
            "\n",
            "Epoch 00010: LearningRateScheduler setting learning rate to 0.001.\n",
            "469/469 [==============================] - 6s 12ms/step - loss: 0.0584 - acc: 0.9875 - val_loss: 0.0745 - val_acc: 0.9828\n",
            "\n",
            "Epoch 00010: val_acc did not improve from 0.98720\n",
            "Epoch 11/40\n",
            "\n",
            "Epoch 00011: LearningRateScheduler setting learning rate to 0.0005.\n",
            "469/469 [==============================] - 6s 12ms/step - loss: 0.0462 - acc: 0.9905 - val_loss: 0.0434 - val_acc: 0.9907\n",
            "\n",
            "Epoch 00011: val_acc improved from 0.98720 to 0.99070, saving model to /content/gdrive/My Drive/EVA/Session5\\saveBest.hdf5\n",
            "Epoch 12/40\n",
            "\n",
            "Epoch 00012: LearningRateScheduler setting learning rate to 0.0005.\n",
            "469/469 [==============================] - 6s 12ms/step - loss: 0.0427 - acc: 0.9904 - val_loss: 0.0651 - val_acc: 0.9843\n",
            "\n",
            "Epoch 00012: val_acc did not improve from 0.99070\n",
            "Epoch 13/40\n",
            "\n",
            "Epoch 00013: LearningRateScheduler setting learning rate to 0.0005.\n",
            "469/469 [==============================] - 6s 12ms/step - loss: 0.0427 - acc: 0.9900 - val_loss: 0.0543 - val_acc: 0.9875\n",
            "\n",
            "Epoch 00013: val_acc did not improve from 0.99070\n",
            "Epoch 14/40\n",
            "\n",
            "Epoch 00014: LearningRateScheduler setting learning rate to 0.0005.\n",
            "469/469 [==============================] - 6s 12ms/step - loss: 0.0397 - acc: 0.9911 - val_loss: 0.0529 - val_acc: 0.9872\n",
            "\n",
            "Epoch 00014: val_acc did not improve from 0.99070\n",
            "Epoch 15/40\n",
            "\n",
            "Epoch 00015: LearningRateScheduler setting learning rate to 0.0005.\n",
            "469/469 [==============================] - 6s 12ms/step - loss: 0.0394 - acc: 0.9909 - val_loss: 0.0501 - val_acc: 0.9888\n",
            "\n",
            "Epoch 00015: val_acc did not improve from 0.99070\n",
            "Epoch 16/40\n",
            "\n",
            "Epoch 00016: LearningRateScheduler setting learning rate to 0.0005.\n",
            "469/469 [==============================] - 6s 12ms/step - loss: 0.0390 - acc: 0.9913 - val_loss: 0.0485 - val_acc: 0.9876\n",
            "\n",
            "Epoch 00016: val_acc did not improve from 0.99070\n",
            "Epoch 17/40\n",
            "\n",
            "Epoch 00017: LearningRateScheduler setting learning rate to 0.000163827.\n",
            "469/469 [==============================] - 6s 12ms/step - loss: 0.0324 - acc: 0.9935 - val_loss: 0.0370 - val_acc: 0.9924\n",
            "\n",
            "Epoch 00017: val_acc improved from 0.99070 to 0.99240, saving model to /content/gdrive/My Drive/EVA/Session5\\saveBest.hdf5\n",
            "Epoch 18/40\n",
            "\n",
            "Epoch 00018: LearningRateScheduler setting learning rate to 0.0001556905.\n",
            "469/469 [==============================] - 6s 12ms/step - loss: 0.0297 - acc: 0.9940 - val_loss: 0.0352 - val_acc: 0.9923\n",
            "\n",
            "Epoch 00018: val_acc did not improve from 0.99240\n",
            "Epoch 19/40\n",
            "\n",
            "Epoch 00019: LearningRateScheduler setting learning rate to 0.0001483239.\n",
            "469/469 [==============================] - 6s 12ms/step - loss: 0.0283 - acc: 0.9941 - val_loss: 0.0307 - val_acc: 0.9928\n",
            "\n",
            "Epoch 00019: val_acc improved from 0.99240 to 0.99280, saving model to /content/gdrive/My Drive/EVA/Session5\\saveBest.hdf5\n",
            "Epoch 20/40\n",
            "\n",
            "Epoch 00020: LearningRateScheduler setting learning rate to 0.000141623.\n",
            "469/469 [==============================] - 6s 12ms/step - loss: 0.0267 - acc: 0.9942 - val_loss: 0.0350 - val_acc: 0.9914\n",
            "\n",
            "Epoch 00020: val_acc did not improve from 0.99280\n",
            "Epoch 21/40\n",
            "\n",
            "Epoch 00021: LearningRateScheduler setting learning rate to 0.0001355014.\n",
            "469/469 [==============================] - 6s 12ms/step - loss: 0.0257 - acc: 0.9945 - val_loss: 0.0337 - val_acc: 0.9919\n",
            "\n",
            "Epoch 00021: val_acc did not improve from 0.99280\n",
            "Epoch 22/40\n",
            "\n",
            "Epoch 00022: LearningRateScheduler setting learning rate to 0.000129887.\n",
            "469/469 [==============================] - 6s 12ms/step - loss: 0.0246 - acc: 0.9947 - val_loss: 0.0401 - val_acc: 0.9897\n",
            "\n",
            "Epoch 00022: val_acc did not improve from 0.99280\n",
            "Epoch 23/40\n",
            "\n",
            "Epoch 00023: LearningRateScheduler setting learning rate to 0.0001247194.\n",
            "469/469 [==============================] - 6s 12ms/step - loss: 0.0232 - acc: 0.9948 - val_loss: 0.0295 - val_acc: 0.9933\n",
            "\n",
            "Epoch 00023: val_acc improved from 0.99280 to 0.99330, saving model to /content/gdrive/My Drive/EVA/Session5\\saveBest.hdf5\n",
            "Epoch 24/40\n",
            "\n",
            "Epoch 00024: LearningRateScheduler setting learning rate to 0.0001199472.\n",
            "469/469 [==============================] - 6s 12ms/step - loss: 0.0251 - acc: 0.9942 - val_loss: 0.0434 - val_acc: 0.9887\n",
            "\n",
            "Epoch 00024: val_acc did not improve from 0.99330\n",
            "Epoch 25/40\n",
            "\n",
            "Epoch 00025: LearningRateScheduler setting learning rate to 0.0001155268.\n",
            "469/469 [==============================] - 6s 12ms/step - loss: 0.0232 - acc: 0.9947 - val_loss: 0.0338 - val_acc: 0.9911\n",
            "\n",
            "Epoch 00025: val_acc did not improve from 0.99330\n",
            "Epoch 26/40\n",
            "\n",
            "Epoch 00026: LearningRateScheduler setting learning rate to 0.0001114206.\n",
            "469/469 [==============================] - 6s 12ms/step - loss: 0.0225 - acc: 0.9951 - val_loss: 0.0301 - val_acc: 0.9928\n",
            "\n",
            "Epoch 00026: val_acc did not improve from 0.99330\n",
            "Epoch 27/40\n",
            "\n",
            "Epoch 00027: LearningRateScheduler setting learning rate to 0.0001075963.\n",
            "469/469 [==============================] - 6s 12ms/step - loss: 0.0225 - acc: 0.9947 - val_loss: 0.0295 - val_acc: 0.9920\n",
            "\n",
            "Epoch 00027: val_acc did not improve from 0.99330\n",
            "Epoch 28/40\n",
            "\n",
            "Epoch 00028: LearningRateScheduler setting learning rate to 0.0001040258.\n",
            "469/469 [==============================] - 6s 12ms/step - loss: 0.0225 - acc: 0.9947 - val_loss: 0.0295 - val_acc: 0.9928\n",
            "\n",
            "Epoch 00028: val_acc did not improve from 0.99330\n",
            "Epoch 29/40\n",
            "\n",
            "Epoch 00029: LearningRateScheduler setting learning rate to 0.0001006847.\n",
            "469/469 [==============================] - 6s 12ms/step - loss: 0.0219 - acc: 0.9949 - val_loss: 0.0299 - val_acc: 0.9928\n",
            "\n",
            "Epoch 00029: val_acc did not improve from 0.99330\n",
            "Epoch 30/40\n",
            "\n",
            "Epoch 00030: LearningRateScheduler setting learning rate to 9.75515e-05.\n",
            "469/469 [==============================] - 6s 12ms/step - loss: 0.0206 - acc: 0.9953 - val_loss: 0.0296 - val_acc: 0.9932\n",
            "\n",
            "Epoch 00030: val_acc did not improve from 0.99330\n",
            "Epoch 31/40\n",
            "\n",
            "Epoch 00031: LearningRateScheduler setting learning rate to 9.46074e-05.\n",
            "469/469 [==============================] - 6s 12ms/step - loss: 0.0213 - acc: 0.9950 - val_loss: 0.0325 - val_acc: 0.9909\n",
            "\n",
            "Epoch 00031: val_acc did not improve from 0.99330\n",
            "Epoch 32/40\n",
            "\n",
            "Epoch 00032: LearningRateScheduler setting learning rate to 9.18358e-05.\n",
            "469/469 [==============================] - 6s 12ms/step - loss: 0.0200 - acc: 0.9954 - val_loss: 0.0340 - val_acc: 0.9910\n",
            "\n",
            "Epoch 00032: val_acc did not improve from 0.99330\n",
            "Epoch 33/40\n",
            "\n",
            "Epoch 00033: LearningRateScheduler setting learning rate to 8.9222e-05.\n",
            "469/469 [==============================] - 6s 12ms/step - loss: 0.0206 - acc: 0.9950 - val_loss: 0.0276 - val_acc: 0.9929\n",
            "\n",
            "Epoch 00033: val_acc did not improve from 0.99330\n",
            "Epoch 34/40\n",
            "\n",
            "Epoch 00034: LearningRateScheduler setting learning rate to 8.67528e-05.\n",
            "469/469 [==============================] - 6s 13ms/step - loss: 0.0200 - acc: 0.9957 - val_loss: 0.0321 - val_acc: 0.9910\n",
            "\n",
            "Epoch 00034: val_acc did not improve from 0.99330\n",
            "Epoch 35/40\n",
            "\n",
            "Epoch 00035: LearningRateScheduler setting learning rate to 8.44167e-05.\n",
            "469/469 [==============================] - 6s 12ms/step - loss: 0.0191 - acc: 0.9955 - val_loss: 0.0271 - val_acc: 0.9936\n",
            "\n",
            "Epoch 00035: val_acc improved from 0.99330 to 0.99360, saving model to /content/gdrive/My Drive/EVA/Session5\\saveBest.hdf5\n",
            "Epoch 36/40\n",
            "\n",
            "Epoch 00036: LearningRateScheduler setting learning rate to 8.2203e-05.\n",
            "469/469 [==============================] - 6s 12ms/step - loss: 0.0189 - acc: 0.9952 - val_loss: 0.0303 - val_acc: 0.9925\n",
            "\n",
            "Epoch 00036: val_acc did not improve from 0.99360\n",
            "Epoch 37/40\n",
            "\n",
            "Epoch 00037: LearningRateScheduler setting learning rate to 8.01025e-05.\n",
            "469/469 [==============================] - 6s 12ms/step - loss: 0.0191 - acc: 0.9956 - val_loss: 0.0282 - val_acc: 0.9921\n",
            "\n",
            "Epoch 00037: val_acc did not improve from 0.99360\n",
            "Epoch 38/40\n",
            "\n",
            "Epoch 00038: LearningRateScheduler setting learning rate to 7.81067e-05.\n",
            "469/469 [==============================] - 6s 12ms/step - loss: 0.0186 - acc: 0.9957 - val_loss: 0.0285 - val_acc: 0.9922\n",
            "\n",
            "Epoch 00038: val_acc did not improve from 0.99360\n",
            "Epoch 39/40\n",
            "\n",
            "Epoch 00039: LearningRateScheduler setting learning rate to 7.62079e-05.\n",
            "469/469 [==============================] - 6s 12ms/step - loss: 0.0187 - acc: 0.9957 - val_loss: 0.0309 - val_acc: 0.9918\n",
            "\n",
            "Epoch 00039: val_acc did not improve from 0.99360\n",
            "Epoch 40/40\n",
            "\n",
            "Epoch 00040: LearningRateScheduler setting learning rate to 7.43992e-05.\n",
            "469/469 [==============================] - 6s 12ms/step - loss: 0.0188 - acc: 0.9955 - val_loss: 0.0281 - val_acc: 0.9929\n",
            "\n",
            "Epoch 00040: val_acc did not improve from 0.99360\n"
          ],
          "name": "stdout"
        },
        {
          "output_type": "execute_result",
          "data": {
            "text/plain": [
              "<keras.callbacks.History at 0x7f31d830fc18>"
            ]
          },
          "metadata": {
            "tags": []
          },
          "execution_count": 45
        }
      ]
    },
    {
      "cell_type": "markdown",
      "metadata": {
        "id": "DPXDo7B7gz_M",
        "colab_type": "text"
      },
      "source": [
        "### Loading the model weight withBest validation accuarcy"
      ]
    },
    {
      "cell_type": "code",
      "metadata": {
        "id": "jU-qZzc2gzHK",
        "colab_type": "code",
        "colab": {}
      },
      "source": [
        "from keras.models import load_model\n",
        "#load model back\n",
        "model = load_model(filepath)"
      ],
      "execution_count": 0,
      "outputs": []
    },
    {
      "cell_type": "markdown",
      "metadata": {
        "id": "yFMI5L0uH9jd",
        "colab_type": "text"
      },
      "source": [
        "### History"
      ]
    },
    {
      "cell_type": "code",
      "metadata": {
        "id": "k2Anm_DwIEmp",
        "colab_type": "code",
        "colab": {}
      },
      "source": [
        "#print(hist.history)\n",
        "print(len(hist.history))\n",
        "hist.history['acc']\n",
        "for i in range(len(hist.history)):\n",
        "\t\t# plot loss\n",
        "\t\tpyplot.subplot(211)\n",
        "\t\tpyplot.title('Cross Entropy Loss')\n",
        "\t\tpyplot.plot(hist.history['loss'], color='blue', label='train')\n",
        "\t\tpyplot.plot(hist.history['val_loss'], color='orange', label='test')\n",
        "\t\t# plot accuracy\n",
        "\t\tpyplot.subplot(212)\n",
        "\t\tpyplot.title('Classification Accuracy')\n",
        "\t\tpyplot.plot(hist.history['acc'], color='blue', label='train')\n",
        "\t\tpyplot.plot(hist.history['val_acc'], color='orange', label='test')\n",
        "pyplot.show()\n"
      ],
      "execution_count": 0,
      "outputs": []
    },
    {
      "cell_type": "markdown",
      "metadata": {
        "id": "opnZRfI3IqmV",
        "colab_type": "text"
      },
      "source": [
        "### Commented code"
      ]
    },
    {
      "cell_type": "code",
      "metadata": {
        "id": "4xWoKhPY9Of5",
        "colab_type": "code",
        "colab": {}
      },
      "source": [
        "\n",
        "#model.fit(X_train, Y_train, batch_size=256, nb_epoch=20, verbose=1, callbacks=[lr1])\n",
        "#model.fit_generator(datagen.flow(X_train, Y_train, batch_size=256),\n",
        "                   # steps_per_epoch=len(X_train) / 32, validation_data=(X_train, Y_train),epochs=20, verbose=1, callbacks=[lr1])\n",
        "#model.fit_generator(datagen.flow(X_train, Y_train, batch_size=256),\n",
        "                #    steps_per_epoch=len(X_train) / 32,validation_data=(X_train, Y_train), epochs=10, verbose=1)\n",
        "\n",
        "\n",
        "#model.fit(X_train, Y_train,batch_size=128,nb_epoch=50,verbose=1,validation_split=0.1)\n",
        "#validation_data=(X_train, Y_train)\n",
        "#https://stackoverflow.com/questions/2148543/how-to-write-a-confusion-matrix-in-python/48087308\n",
        "#https://mc.ai/data-augmentation-tasks-using-keras-for-image-data-and-how-to-use-it-in-deep-learning/\n",
        "#from keras.models import load_model\n",
        "#model_vgg16 = load_model(\"saved_model.h5\")\n",
        "#model_vgg16.summary()\n",
        "#layer_input = model_vgg16.get_layer('vgg16').get_layer(layer_name).input"
      ],
      "execution_count": 0,
      "outputs": []
    },
    {
      "cell_type": "markdown",
      "metadata": {
        "id": "ID34At_gItRa",
        "colab_type": "text"
      },
      "source": [
        "### Evaluate & Predict "
      ]
    },
    {
      "cell_type": "code",
      "metadata": {
        "id": "hDWSYB7akyDV",
        "colab_type": "code",
        "outputId": "f93df33b-2091-412c-c160-b9c5c472f13c",
        "colab": {
          "base_uri": "https://localhost:8080/",
          "height": 50
        }
      },
      "source": [
        "acc = model.evaluate_generator(test_iterator, steps=len(test_iterator),verbose=1)\n",
        "print(acc)"
      ],
      "execution_count": 0,
      "outputs": [
        {
          "output_type": "stream",
          "text": [
            "79/79 [==============================] - 1s 12ms/step\n",
            "[0.02741967599093914, 0.9938]\n"
          ],
          "name": "stdout"
        }
      ]
    },
    {
      "cell_type": "code",
      "metadata": {
        "id": "lP64dYzUx0Od",
        "colab_type": "code",
        "outputId": "0518e225-9c18-45a3-b216-e9fbd67aa92a",
        "colab": {
          "base_uri": "https://localhost:8080/",
          "height": 252
        }
      },
      "source": [
        "#y_pred = model.predict_generator(datagen.flow(X_test,Y_test,batch_size=128),steps=len(test_iterator),verbose=1)\n",
        "y_pred = model.predict_generator(test_iterator, steps=len(test_iterator),verbose=1))\n",
        "y_pred_label=np.argmax(y_pred,axis=1)\n",
        "y_test_label=np.argmax(Y_test,axis=1)\n",
        "print(y_pred)"
      ],
      "execution_count": 0,
      "outputs": [
        {
          "output_type": "stream",
          "text": [
            "79/79 [==============================] - 1s 11ms/step\n",
            "[[1.4676338e-07 2.2539248e-04 9.9829394e-01 ... 1.4800952e-03\n",
            "  8.9107040e-08 4.9158379e-11]\n",
            " [1.5772595e-05 3.0156752e-11 2.3969790e-08 ... 8.8805518e-15\n",
            "  3.2619580e-05 2.7539800e-06]\n",
            " [2.8412540e-05 1.7523389e-08 1.3894484e-07 ... 1.3660580e-13\n",
            "  4.7305280e-09 2.6232707e-09]\n",
            " ...\n",
            " [1.0636952e-09 1.9892588e-12 2.0849664e-06 ... 3.7066007e-11\n",
            "  9.9999738e-01 8.7871740e-08]\n",
            " [9.9981445e-01 8.0723321e-09 2.8507466e-06 ... 2.5819626e-09\n",
            "  3.7497630e-06 1.9133195e-05]\n",
            " [2.8005684e-06 8.3331184e-07 1.5353789e-05 ... 2.0168627e-09\n",
            "  1.6683365e-05 4.9783786e-08]]\n"
          ],
          "name": "stdout"
        }
      ]
    },
    {
      "cell_type": "code",
      "metadata": {
        "id": "77u7ujxVkNMR",
        "colab_type": "code",
        "outputId": "5141958b-9886-4843-a46b-a927b868c5ad",
        "colab": {
          "base_uri": "https://localhost:8080/",
          "height": 235
        }
      },
      "source": [
        "y_pred = model.predict(X_test)\n",
        "y_pred_label=np.argmax(y_pred,axis=1)\n",
        "y_test_label=np.argmax(Y_test,axis=1)\n",
        "print(y_pred)"
      ],
      "execution_count": 0,
      "outputs": [
        {
          "output_type": "stream",
          "text": [
            "[[0.0000000e+00 0.0000000e+00 1.6249353e-26 ... 1.0000000e+00\n",
            "  0.0000000e+00 0.0000000e+00]\n",
            " [0.0000000e+00 0.0000000e+00 1.0000000e+00 ... 0.0000000e+00\n",
            "  0.0000000e+00 0.0000000e+00]\n",
            " [0.0000000e+00 1.0000000e+00 1.3208295e-21 ... 0.0000000e+00\n",
            "  0.0000000e+00 0.0000000e+00]\n",
            " ...\n",
            " [0.0000000e+00 0.0000000e+00 0.0000000e+00 ... 0.0000000e+00\n",
            "  0.0000000e+00 0.0000000e+00]\n",
            " [0.0000000e+00 0.0000000e+00 0.0000000e+00 ... 0.0000000e+00\n",
            "  0.0000000e+00 0.0000000e+00]\n",
            " [1.7757066e-32 0.0000000e+00 1.5000666e-38 ... 0.0000000e+00\n",
            "  0.0000000e+00 0.0000000e+00]]\n"
          ],
          "name": "stdout"
        }
      ]
    },
    {
      "cell_type": "markdown",
      "metadata": {
        "id": "Ti2firEd1QAC",
        "colab_type": "text"
      },
      "source": [
        "###  Confusion Matrix"
      ]
    },
    {
      "cell_type": "code",
      "metadata": {
        "id": "XABZPrpV0VLO",
        "colab_type": "code",
        "outputId": "5834b19b-6685-4335-bcbf-a4dc24b10ec1",
        "colab": {
          "base_uri": "https://localhost:8080/",
          "height": 185
        }
      },
      "source": [
        "from sklearn.metrics import confusion_matrix\n",
        "cm=confusion_matrix(y_pred_label,y_test_label)\n",
        "cm\n"
      ],
      "execution_count": 0,
      "outputs": [
        {
          "output_type": "execute_result",
          "data": {
            "text/plain": [
              "array([[131,  52,   0,   0,   1,   0,  81,   0,   1,   1],\n",
              "       [  0, 674,   0,   0,   1,   0,   6,   3,   1,   2],\n",
              "       [766, 260, 974,  77,  87,  24,  87, 215, 132,  28],\n",
              "       [ 43,  72,  58, 908,   1,  25,  77,  60,  91,  30],\n",
              "       [  0,   0,   0,   0, 766,   1,   0,   0,   2,  74],\n",
              "       [ 40,  52,   0,  25,  68, 820, 141,  22,  33,  80],\n",
              "       [  0,   7,   0,   0,   1,   0, 553,   0,   0,   0],\n",
              "       [  0,   0,   0,   0,   0,   0,   0, 724,   0,  14],\n",
              "       [  0,  18,   0,   0,  20,  22,  13,   3, 714,  75],\n",
              "       [  0,   0,   0,   0,  37,   0,   0,   1,   0, 705]])"
            ]
          },
          "metadata": {
            "tags": []
          },
          "execution_count": 52
        }
      ]
    },
    {
      "cell_type": "code",
      "metadata": {
        "id": "pGGDGT8ytUmw",
        "colab_type": "code",
        "outputId": "6b85e86d-0bb1-460e-a22c-0eaf3a7c56f2",
        "colab": {
          "base_uri": "https://localhost:8080/",
          "height": 34
        }
      },
      "source": [
        "np.sum(np.diagonal(cm))"
      ],
      "execution_count": 0,
      "outputs": [
        {
          "output_type": "execute_result",
          "data": {
            "text/plain": [
              "6969"
            ]
          },
          "metadata": {
            "tags": []
          },
          "execution_count": 58
        }
      ]
    },
    {
      "cell_type": "code",
      "metadata": {
        "id": "vDR4UldPu3EY",
        "colab_type": "code",
        "outputId": "2317ecc8-1fca-4404-a923-c5e81b3bc789",
        "colab": {
          "base_uri": "https://localhost:8080/",
          "height": 34
        }
      },
      "source": [
        "#number of misclassified\n",
        "np.sum(cm)-np.sum(np.diagonal(cm))"
      ],
      "execution_count": 0,
      "outputs": [
        {
          "output_type": "execute_result",
          "data": {
            "text/plain": [
              "3031"
            ]
          },
          "metadata": {
            "tags": []
          },
          "execution_count": 59
        }
      ]
    },
    {
      "cell_type": "code",
      "metadata": {
        "id": "4dBtwVrLvAt6",
        "colab_type": "code",
        "outputId": "1d1bb049-3ce8-4dda-aa8e-243a4d6be57d",
        "colab": {
          "base_uri": "https://localhost:8080/",
          "height": 34
        }
      },
      "source": [
        "misclassified = np.where(y_test_label != y_pred_label)\n",
        "X_testmis1 = X_test[y_test_label != y_pred_label]\n",
        "len(X_testmis1)"
      ],
      "execution_count": 0,
      "outputs": [
        {
          "output_type": "execute_result",
          "data": {
            "text/plain": [
              "3031"
            ]
          },
          "metadata": {
            "tags": []
          },
          "execution_count": 60
        }
      ]
    },
    {
      "cell_type": "code",
      "metadata": {
        "id": "9a5EiqEZumRr",
        "colab_type": "code",
        "outputId": "0f0632ef-1775-47d8-f9a5-e2e9fb86ea9f",
        "colab": {
          "base_uri": "https://localhost:8080/",
          "height": 34
        }
      },
      "source": [
        "j,t = 0, 0\n",
        "X_test_wrong = []\n",
        "for i in range(len(X_test)):\n",
        "  xx = X_test[i].reshape(1, 28, 28,1)\n",
        "  t += 1\n",
        "  if (y_pred_label[i] != y_test_label[i]):\n",
        "    X_test_wrong.append((xx, y_pred_label[i], y_test_label[i]))\n",
        "    j += 1\n",
        "  if j >= 25:\n",
        "    break\n",
        "print('total false preds {} for samples {}'.format(j,t))\n",
        "\n",
        "\n"
      ],
      "execution_count": 0,
      "outputs": [
        {
          "output_type": "stream",
          "text": [
            "total false preds 25 for samples 94\n"
          ],
          "name": "stdout"
        }
      ]
    },
    {
      "cell_type": "markdown",
      "metadata": {
        "id": "ZPO4cWfN1c0i",
        "colab_type": "text"
      },
      "source": [
        "### 25 Mis-Classified images"
      ]
    },
    {
      "cell_type": "code",
      "metadata": {
        "id": "ym3Nvrix1ZTn",
        "colab_type": "code",
        "outputId": "0c5a499b-5d21-4047-974a-c52989506c3a",
        "colab": {
          "base_uri": "https://localhost:8080/",
          "height": 1042
        }
      },
      "source": [
        "#Plotting misclassified examples\n",
        "plt.figure(figsize=(18,18))\n",
        "k = 0\n",
        "for i in range(len(X_test)):\n",
        "  if (y_pred_label[i] != y_test_label[i]):\n",
        "    ax = plt.subplot(5,5,k+1)\n",
        "    ax.set_title(\"pred: {}   actu: {}\".format(y_pred_label[i], y_test_label[i]), color='r')\n",
        "    plt.imshow(np.reshape(X_test[i], (28,28)), cmap=plt.cm.gray)\n",
        "    k += 1\n",
        "  if k==25:\n",
        "    break"
      ],
      "execution_count": 0,
      "outputs": [
        {
          "output_type": "display_data",
          "data": {
            "image/png": "[encoded data removed]",
            "text/plain": [
              "<Figure size 1296x1296 with 25 Axes>"
            ]
          },
          "metadata": {
            "tags": []
          }
        }
      ]
    }
  ]
}